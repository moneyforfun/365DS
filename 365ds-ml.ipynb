{
 "cells": [
  {
   "cell_type": "code",
   "execution_count": 1,
   "id": "064af9d6",
   "metadata": {
    "_cell_guid": "b1076dfc-b9ad-4769-8c92-a6c4dae69d19",
    "_uuid": "8f2839f25d086af736a60e9eeb907d3b93b6e0e5",
    "execution": {
     "iopub.execute_input": "2024-04-24T09:44:51.474504Z",
     "iopub.status.busy": "2024-04-24T09:44:51.473790Z",
     "iopub.status.idle": "2024-04-24T09:44:52.379442Z",
     "shell.execute_reply": "2024-04-24T09:44:52.377810Z"
    },
    "papermill": {
     "duration": 0.921607,
     "end_time": "2024-04-24T09:44:52.381777",
     "exception": false,
     "start_time": "2024-04-24T09:44:51.460170",
     "status": "completed"
    },
    "tags": []
   },
   "outputs": [
    {
     "name": "stdout",
     "output_type": "stream",
     "text": [
      "/kaggle/input/df-prep-fixed/df_prep (1).csv\n"
     ]
    }
   ],
   "source": [
    "# This Python 3 environment comes with many helpful analytics libraries installed\n",
    "# It is defined by the kaggle/python Docker image: https://github.com/kaggle/docker-python\n",
    "# For example, here's several helpful packages to load\n",
    "\n",
    "import numpy as np # linear algebra\n",
    "import pandas as pd # data processing, CSV file I/O (e.g. pd.read_csv)\n",
    "\n",
    "# Input data files are available in the read-only \"../input/\" directory\n",
    "# For example, running this (by clicking run or pressing Shift+Enter) will list all files under the input directory\n",
    "\n",
    "import os\n",
    "for dirname, _, filenames in os.walk('/kaggle/input'):\n",
    "    for filename in filenames:\n",
    "        print(os.path.join(dirname, filename))\n",
    "\n",
    "# You can write up to 20GB to the current directory (/kaggle/working/) that gets preserved as output when you create a version using \"Save & Run All\" \n",
    "# You can also write temporary files to /kaggle/temp/, but they won't be saved outside of the current session"
   ]
  },
  {
   "cell_type": "code",
   "execution_count": 2,
   "id": "1b892904",
   "metadata": {
    "execution": {
     "iopub.execute_input": "2024-04-24T09:44:52.409306Z",
     "iopub.status.busy": "2024-04-24T09:44:52.408088Z",
     "iopub.status.idle": "2024-04-24T09:44:52.428947Z",
     "shell.execute_reply": "2024-04-24T09:44:52.427929Z"
    },
    "papermill": {
     "duration": 0.037345,
     "end_time": "2024-04-24T09:44:52.431605",
     "exception": false,
     "start_time": "2024-04-24T09:44:52.394260",
     "status": "completed"
    },
    "tags": []
   },
   "outputs": [
    {
     "data": {
      "text/plain": [
       "Index(['Unnamed: 0', 'Reason_1', 'Reason_2', 'Reason_3', 'Reason_4', 'Date',\n",
       "       'Transportation Expense', 'Distance to Work', 'Age',\n",
       "       'Daily Work Load Average', 'Body Mass Index', 'Education', 'Children',\n",
       "       'Pets', 'Absenteeism Time in Hours', 'Month', 'WeekDay', 'Year'],\n",
       "      dtype='object')"
      ]
     },
     "execution_count": 2,
     "metadata": {},
     "output_type": "execute_result"
    }
   ],
   "source": [
    "df = pd.read_csv('/kaggle/input/df-prep-fixed/df_prep (1).csv',encoding='utf-8')\n",
    "df.columns"
   ]
  },
  {
   "cell_type": "code",
   "execution_count": 3,
   "id": "e8f84962",
   "metadata": {
    "execution": {
     "iopub.execute_input": "2024-04-24T09:44:52.457767Z",
     "iopub.status.busy": "2024-04-24T09:44:52.456799Z",
     "iopub.status.idle": "2024-04-24T09:44:52.491381Z",
     "shell.execute_reply": "2024-04-24T09:44:52.490155Z"
    },
    "papermill": {
     "duration": 0.050163,
     "end_time": "2024-04-24T09:44:52.493719",
     "exception": false,
     "start_time": "2024-04-24T09:44:52.443556",
     "status": "completed"
    },
    "tags": []
   },
   "outputs": [
    {
     "data": {
      "text/html": [
       "<div>\n",
       "<style scoped>\n",
       "    .dataframe tbody tr th:only-of-type {\n",
       "        vertical-align: middle;\n",
       "    }\n",
       "\n",
       "    .dataframe tbody tr th {\n",
       "        vertical-align: top;\n",
       "    }\n",
       "\n",
       "    .dataframe thead th {\n",
       "        text-align: right;\n",
       "    }\n",
       "</style>\n",
       "<table border=\"1\" class=\"dataframe\">\n",
       "  <thead>\n",
       "    <tr style=\"text-align: right;\">\n",
       "      <th></th>\n",
       "      <th>Reason_1</th>\n",
       "      <th>Reason_2</th>\n",
       "      <th>Reason_3</th>\n",
       "      <th>Reason_4</th>\n",
       "      <th>Date</th>\n",
       "      <th>Transportation Expense</th>\n",
       "      <th>Distance to Work</th>\n",
       "      <th>Age</th>\n",
       "      <th>Daily Work Load Average</th>\n",
       "      <th>Body Mass Index</th>\n",
       "      <th>Education</th>\n",
       "      <th>Children</th>\n",
       "      <th>Pets</th>\n",
       "      <th>Absenteeism Time in Hours</th>\n",
       "      <th>Month</th>\n",
       "      <th>WeekDay</th>\n",
       "      <th>Year</th>\n",
       "    </tr>\n",
       "  </thead>\n",
       "  <tbody>\n",
       "    <tr>\n",
       "      <th>0</th>\n",
       "      <td>False</td>\n",
       "      <td>False</td>\n",
       "      <td>False</td>\n",
       "      <td>True</td>\n",
       "      <td>2015-07-07</td>\n",
       "      <td>289</td>\n",
       "      <td>36</td>\n",
       "      <td>33</td>\n",
       "      <td>239.554</td>\n",
       "      <td>30</td>\n",
       "      <td>0</td>\n",
       "      <td>2</td>\n",
       "      <td>1</td>\n",
       "      <td>4</td>\n",
       "      <td>7</td>\n",
       "      <td>1</td>\n",
       "      <td>2015</td>\n",
       "    </tr>\n",
       "    <tr>\n",
       "      <th>1</th>\n",
       "      <td>False</td>\n",
       "      <td>False</td>\n",
       "      <td>False</td>\n",
       "      <td>False</td>\n",
       "      <td>2015-07-14</td>\n",
       "      <td>118</td>\n",
       "      <td>13</td>\n",
       "      <td>50</td>\n",
       "      <td>239.554</td>\n",
       "      <td>31</td>\n",
       "      <td>0</td>\n",
       "      <td>1</td>\n",
       "      <td>0</td>\n",
       "      <td>0</td>\n",
       "      <td>7</td>\n",
       "      <td>1</td>\n",
       "      <td>2015</td>\n",
       "    </tr>\n",
       "    <tr>\n",
       "      <th>2</th>\n",
       "      <td>False</td>\n",
       "      <td>False</td>\n",
       "      <td>False</td>\n",
       "      <td>True</td>\n",
       "      <td>2015-07-15</td>\n",
       "      <td>179</td>\n",
       "      <td>51</td>\n",
       "      <td>38</td>\n",
       "      <td>239.554</td>\n",
       "      <td>31</td>\n",
       "      <td>0</td>\n",
       "      <td>0</td>\n",
       "      <td>0</td>\n",
       "      <td>2</td>\n",
       "      <td>7</td>\n",
       "      <td>2</td>\n",
       "      <td>2015</td>\n",
       "    </tr>\n",
       "    <tr>\n",
       "      <th>3</th>\n",
       "      <td>True</td>\n",
       "      <td>False</td>\n",
       "      <td>False</td>\n",
       "      <td>False</td>\n",
       "      <td>2015-07-16</td>\n",
       "      <td>279</td>\n",
       "      <td>5</td>\n",
       "      <td>39</td>\n",
       "      <td>239.554</td>\n",
       "      <td>24</td>\n",
       "      <td>0</td>\n",
       "      <td>2</td>\n",
       "      <td>0</td>\n",
       "      <td>4</td>\n",
       "      <td>7</td>\n",
       "      <td>3</td>\n",
       "      <td>2015</td>\n",
       "    </tr>\n",
       "    <tr>\n",
       "      <th>4</th>\n",
       "      <td>False</td>\n",
       "      <td>False</td>\n",
       "      <td>False</td>\n",
       "      <td>True</td>\n",
       "      <td>2015-07-23</td>\n",
       "      <td>289</td>\n",
       "      <td>36</td>\n",
       "      <td>33</td>\n",
       "      <td>239.554</td>\n",
       "      <td>30</td>\n",
       "      <td>0</td>\n",
       "      <td>2</td>\n",
       "      <td>1</td>\n",
       "      <td>2</td>\n",
       "      <td>7</td>\n",
       "      <td>3</td>\n",
       "      <td>2015</td>\n",
       "    </tr>\n",
       "    <tr>\n",
       "      <th>...</th>\n",
       "      <td>...</td>\n",
       "      <td>...</td>\n",
       "      <td>...</td>\n",
       "      <td>...</td>\n",
       "      <td>...</td>\n",
       "      <td>...</td>\n",
       "      <td>...</td>\n",
       "      <td>...</td>\n",
       "      <td>...</td>\n",
       "      <td>...</td>\n",
       "      <td>...</td>\n",
       "      <td>...</td>\n",
       "      <td>...</td>\n",
       "      <td>...</td>\n",
       "      <td>...</td>\n",
       "      <td>...</td>\n",
       "      <td>...</td>\n",
       "    </tr>\n",
       "    <tr>\n",
       "      <th>695</th>\n",
       "      <td>True</td>\n",
       "      <td>False</td>\n",
       "      <td>False</td>\n",
       "      <td>False</td>\n",
       "      <td>2018-05-23</td>\n",
       "      <td>179</td>\n",
       "      <td>22</td>\n",
       "      <td>40</td>\n",
       "      <td>237.656</td>\n",
       "      <td>22</td>\n",
       "      <td>1</td>\n",
       "      <td>2</td>\n",
       "      <td>0</td>\n",
       "      <td>8</td>\n",
       "      <td>5</td>\n",
       "      <td>2</td>\n",
       "      <td>2018</td>\n",
       "    </tr>\n",
       "    <tr>\n",
       "      <th>696</th>\n",
       "      <td>True</td>\n",
       "      <td>False</td>\n",
       "      <td>False</td>\n",
       "      <td>False</td>\n",
       "      <td>2018-05-23</td>\n",
       "      <td>225</td>\n",
       "      <td>26</td>\n",
       "      <td>28</td>\n",
       "      <td>237.656</td>\n",
       "      <td>24</td>\n",
       "      <td>0</td>\n",
       "      <td>1</td>\n",
       "      <td>2</td>\n",
       "      <td>3</td>\n",
       "      <td>5</td>\n",
       "      <td>2</td>\n",
       "      <td>2018</td>\n",
       "    </tr>\n",
       "    <tr>\n",
       "      <th>697</th>\n",
       "      <td>True</td>\n",
       "      <td>False</td>\n",
       "      <td>False</td>\n",
       "      <td>False</td>\n",
       "      <td>2018-05-24</td>\n",
       "      <td>330</td>\n",
       "      <td>16</td>\n",
       "      <td>28</td>\n",
       "      <td>237.656</td>\n",
       "      <td>25</td>\n",
       "      <td>1</td>\n",
       "      <td>0</td>\n",
       "      <td>0</td>\n",
       "      <td>8</td>\n",
       "      <td>5</td>\n",
       "      <td>3</td>\n",
       "      <td>2018</td>\n",
       "    </tr>\n",
       "    <tr>\n",
       "      <th>698</th>\n",
       "      <td>False</td>\n",
       "      <td>False</td>\n",
       "      <td>False</td>\n",
       "      <td>True</td>\n",
       "      <td>2018-05-24</td>\n",
       "      <td>235</td>\n",
       "      <td>16</td>\n",
       "      <td>32</td>\n",
       "      <td>237.656</td>\n",
       "      <td>25</td>\n",
       "      <td>1</td>\n",
       "      <td>0</td>\n",
       "      <td>0</td>\n",
       "      <td>2</td>\n",
       "      <td>5</td>\n",
       "      <td>3</td>\n",
       "      <td>2018</td>\n",
       "    </tr>\n",
       "    <tr>\n",
       "      <th>699</th>\n",
       "      <td>False</td>\n",
       "      <td>False</td>\n",
       "      <td>False</td>\n",
       "      <td>True</td>\n",
       "      <td>2018-05-31</td>\n",
       "      <td>291</td>\n",
       "      <td>31</td>\n",
       "      <td>40</td>\n",
       "      <td>237.656</td>\n",
       "      <td>25</td>\n",
       "      <td>0</td>\n",
       "      <td>1</td>\n",
       "      <td>1</td>\n",
       "      <td>2</td>\n",
       "      <td>5</td>\n",
       "      <td>3</td>\n",
       "      <td>2018</td>\n",
       "    </tr>\n",
       "  </tbody>\n",
       "</table>\n",
       "<p>700 rows × 17 columns</p>\n",
       "</div>"
      ],
      "text/plain": [
       "     Reason_1  Reason_2  Reason_3  Reason_4        Date  \\\n",
       "0       False     False     False      True  2015-07-07   \n",
       "1       False     False     False     False  2015-07-14   \n",
       "2       False     False     False      True  2015-07-15   \n",
       "3        True     False     False     False  2015-07-16   \n",
       "4       False     False     False      True  2015-07-23   \n",
       "..        ...       ...       ...       ...         ...   \n",
       "695      True     False     False     False  2018-05-23   \n",
       "696      True     False     False     False  2018-05-23   \n",
       "697      True     False     False     False  2018-05-24   \n",
       "698     False     False     False      True  2018-05-24   \n",
       "699     False     False     False      True  2018-05-31   \n",
       "\n",
       "     Transportation Expense  Distance to Work  Age  Daily Work Load Average  \\\n",
       "0                       289                36   33                  239.554   \n",
       "1                       118                13   50                  239.554   \n",
       "2                       179                51   38                  239.554   \n",
       "3                       279                 5   39                  239.554   \n",
       "4                       289                36   33                  239.554   \n",
       "..                      ...               ...  ...                      ...   \n",
       "695                     179                22   40                  237.656   \n",
       "696                     225                26   28                  237.656   \n",
       "697                     330                16   28                  237.656   \n",
       "698                     235                16   32                  237.656   \n",
       "699                     291                31   40                  237.656   \n",
       "\n",
       "     Body Mass Index  Education  Children  Pets  Absenteeism Time in Hours  \\\n",
       "0                 30          0         2     1                          4   \n",
       "1                 31          0         1     0                          0   \n",
       "2                 31          0         0     0                          2   \n",
       "3                 24          0         2     0                          4   \n",
       "4                 30          0         2     1                          2   \n",
       "..               ...        ...       ...   ...                        ...   \n",
       "695               22          1         2     0                          8   \n",
       "696               24          0         1     2                          3   \n",
       "697               25          1         0     0                          8   \n",
       "698               25          1         0     0                          2   \n",
       "699               25          0         1     1                          2   \n",
       "\n",
       "     Month  WeekDay  Year  \n",
       "0        7        1  2015  \n",
       "1        7        1  2015  \n",
       "2        7        2  2015  \n",
       "3        7        3  2015  \n",
       "4        7        3  2015  \n",
       "..     ...      ...   ...  \n",
       "695      5        2  2018  \n",
       "696      5        2  2018  \n",
       "697      5        3  2018  \n",
       "698      5        3  2018  \n",
       "699      5        3  2018  \n",
       "\n",
       "[700 rows x 17 columns]"
      ]
     },
     "execution_count": 3,
     "metadata": {},
     "output_type": "execute_result"
    }
   ],
   "source": [
    "df = df.drop(['Unnamed: 0'],axis=1)\n",
    "df"
   ]
  },
  {
   "cell_type": "code",
   "execution_count": 4,
   "id": "737e581e",
   "metadata": {
    "execution": {
     "iopub.execute_input": "2024-04-24T09:44:52.520818Z",
     "iopub.status.busy": "2024-04-24T09:44:52.520451Z",
     "iopub.status.idle": "2024-04-24T09:44:52.530129Z",
     "shell.execute_reply": "2024-04-24T09:44:52.529273Z"
    },
    "papermill": {
     "duration": 0.025188,
     "end_time": "2024-04-24T09:44:52.532206",
     "exception": false,
     "start_time": "2024-04-24T09:44:52.507018",
     "status": "completed"
    },
    "tags": []
   },
   "outputs": [
    {
     "data": {
      "text/plain": [
       "3.0"
      ]
     },
     "execution_count": 4,
     "metadata": {},
     "output_type": "execute_result"
    }
   ],
   "source": [
    "df['Absenteeism Time in Hours'].median()"
   ]
  },
  {
   "cell_type": "code",
   "execution_count": 5,
   "id": "c728a316",
   "metadata": {
    "execution": {
     "iopub.execute_input": "2024-04-24T09:44:52.560073Z",
     "iopub.status.busy": "2024-04-24T09:44:52.559369Z",
     "iopub.status.idle": "2024-04-24T09:44:52.565037Z",
     "shell.execute_reply": "2024-04-24T09:44:52.564242Z"
    },
    "papermill": {
     "duration": 0.022493,
     "end_time": "2024-04-24T09:44:52.567369",
     "exception": false,
     "start_time": "2024-04-24T09:44:52.544876",
     "status": "completed"
    },
    "tags": []
   },
   "outputs": [],
   "source": [
    "targets = np.where(df['Absenteeism Time in Hours'] > \n",
    "                   df['Absenteeism Time in Hours'].median(),1, 0)\n"
   ]
  },
  {
   "cell_type": "code",
   "execution_count": 6,
   "id": "0ff1e479",
   "metadata": {
    "execution": {
     "iopub.execute_input": "2024-04-24T09:44:52.594315Z",
     "iopub.status.busy": "2024-04-24T09:44:52.593948Z",
     "iopub.status.idle": "2024-04-24T09:44:52.615515Z",
     "shell.execute_reply": "2024-04-24T09:44:52.614452Z"
    },
    "papermill": {
     "duration": 0.037662,
     "end_time": "2024-04-24T09:44:52.618059",
     "exception": false,
     "start_time": "2024-04-24T09:44:52.580397",
     "status": "completed"
    },
    "tags": []
   },
   "outputs": [
    {
     "data": {
      "text/html": [
       "<div>\n",
       "<style scoped>\n",
       "    .dataframe tbody tr th:only-of-type {\n",
       "        vertical-align: middle;\n",
       "    }\n",
       "\n",
       "    .dataframe tbody tr th {\n",
       "        vertical-align: top;\n",
       "    }\n",
       "\n",
       "    .dataframe thead th {\n",
       "        text-align: right;\n",
       "    }\n",
       "</style>\n",
       "<table border=\"1\" class=\"dataframe\">\n",
       "  <thead>\n",
       "    <tr style=\"text-align: right;\">\n",
       "      <th></th>\n",
       "      <th>Reason_1</th>\n",
       "      <th>Reason_2</th>\n",
       "      <th>Reason_3</th>\n",
       "      <th>Reason_4</th>\n",
       "      <th>Date</th>\n",
       "      <th>Transportation Expense</th>\n",
       "      <th>Distance to Work</th>\n",
       "      <th>Age</th>\n",
       "      <th>Daily Work Load Average</th>\n",
       "      <th>Body Mass Index</th>\n",
       "      <th>Education</th>\n",
       "      <th>Children</th>\n",
       "      <th>Pets</th>\n",
       "      <th>Absenteeism Time in Hours</th>\n",
       "      <th>Month</th>\n",
       "      <th>WeekDay</th>\n",
       "      <th>Year</th>\n",
       "      <th>Excessive Absenteeism</th>\n",
       "    </tr>\n",
       "  </thead>\n",
       "  <tbody>\n",
       "    <tr>\n",
       "      <th>0</th>\n",
       "      <td>False</td>\n",
       "      <td>False</td>\n",
       "      <td>False</td>\n",
       "      <td>True</td>\n",
       "      <td>2015-07-07</td>\n",
       "      <td>289</td>\n",
       "      <td>36</td>\n",
       "      <td>33</td>\n",
       "      <td>239.554</td>\n",
       "      <td>30</td>\n",
       "      <td>0</td>\n",
       "      <td>2</td>\n",
       "      <td>1</td>\n",
       "      <td>4</td>\n",
       "      <td>7</td>\n",
       "      <td>1</td>\n",
       "      <td>2015</td>\n",
       "      <td>1</td>\n",
       "    </tr>\n",
       "    <tr>\n",
       "      <th>1</th>\n",
       "      <td>False</td>\n",
       "      <td>False</td>\n",
       "      <td>False</td>\n",
       "      <td>False</td>\n",
       "      <td>2015-07-14</td>\n",
       "      <td>118</td>\n",
       "      <td>13</td>\n",
       "      <td>50</td>\n",
       "      <td>239.554</td>\n",
       "      <td>31</td>\n",
       "      <td>0</td>\n",
       "      <td>1</td>\n",
       "      <td>0</td>\n",
       "      <td>0</td>\n",
       "      <td>7</td>\n",
       "      <td>1</td>\n",
       "      <td>2015</td>\n",
       "      <td>0</td>\n",
       "    </tr>\n",
       "    <tr>\n",
       "      <th>2</th>\n",
       "      <td>False</td>\n",
       "      <td>False</td>\n",
       "      <td>False</td>\n",
       "      <td>True</td>\n",
       "      <td>2015-07-15</td>\n",
       "      <td>179</td>\n",
       "      <td>51</td>\n",
       "      <td>38</td>\n",
       "      <td>239.554</td>\n",
       "      <td>31</td>\n",
       "      <td>0</td>\n",
       "      <td>0</td>\n",
       "      <td>0</td>\n",
       "      <td>2</td>\n",
       "      <td>7</td>\n",
       "      <td>2</td>\n",
       "      <td>2015</td>\n",
       "      <td>0</td>\n",
       "    </tr>\n",
       "    <tr>\n",
       "      <th>3</th>\n",
       "      <td>True</td>\n",
       "      <td>False</td>\n",
       "      <td>False</td>\n",
       "      <td>False</td>\n",
       "      <td>2015-07-16</td>\n",
       "      <td>279</td>\n",
       "      <td>5</td>\n",
       "      <td>39</td>\n",
       "      <td>239.554</td>\n",
       "      <td>24</td>\n",
       "      <td>0</td>\n",
       "      <td>2</td>\n",
       "      <td>0</td>\n",
       "      <td>4</td>\n",
       "      <td>7</td>\n",
       "      <td>3</td>\n",
       "      <td>2015</td>\n",
       "      <td>1</td>\n",
       "    </tr>\n",
       "    <tr>\n",
       "      <th>4</th>\n",
       "      <td>False</td>\n",
       "      <td>False</td>\n",
       "      <td>False</td>\n",
       "      <td>True</td>\n",
       "      <td>2015-07-23</td>\n",
       "      <td>289</td>\n",
       "      <td>36</td>\n",
       "      <td>33</td>\n",
       "      <td>239.554</td>\n",
       "      <td>30</td>\n",
       "      <td>0</td>\n",
       "      <td>2</td>\n",
       "      <td>1</td>\n",
       "      <td>2</td>\n",
       "      <td>7</td>\n",
       "      <td>3</td>\n",
       "      <td>2015</td>\n",
       "      <td>0</td>\n",
       "    </tr>\n",
       "    <tr>\n",
       "      <th>...</th>\n",
       "      <td>...</td>\n",
       "      <td>...</td>\n",
       "      <td>...</td>\n",
       "      <td>...</td>\n",
       "      <td>...</td>\n",
       "      <td>...</td>\n",
       "      <td>...</td>\n",
       "      <td>...</td>\n",
       "      <td>...</td>\n",
       "      <td>...</td>\n",
       "      <td>...</td>\n",
       "      <td>...</td>\n",
       "      <td>...</td>\n",
       "      <td>...</td>\n",
       "      <td>...</td>\n",
       "      <td>...</td>\n",
       "      <td>...</td>\n",
       "      <td>...</td>\n",
       "    </tr>\n",
       "    <tr>\n",
       "      <th>695</th>\n",
       "      <td>True</td>\n",
       "      <td>False</td>\n",
       "      <td>False</td>\n",
       "      <td>False</td>\n",
       "      <td>2018-05-23</td>\n",
       "      <td>179</td>\n",
       "      <td>22</td>\n",
       "      <td>40</td>\n",
       "      <td>237.656</td>\n",
       "      <td>22</td>\n",
       "      <td>1</td>\n",
       "      <td>2</td>\n",
       "      <td>0</td>\n",
       "      <td>8</td>\n",
       "      <td>5</td>\n",
       "      <td>2</td>\n",
       "      <td>2018</td>\n",
       "      <td>1</td>\n",
       "    </tr>\n",
       "    <tr>\n",
       "      <th>696</th>\n",
       "      <td>True</td>\n",
       "      <td>False</td>\n",
       "      <td>False</td>\n",
       "      <td>False</td>\n",
       "      <td>2018-05-23</td>\n",
       "      <td>225</td>\n",
       "      <td>26</td>\n",
       "      <td>28</td>\n",
       "      <td>237.656</td>\n",
       "      <td>24</td>\n",
       "      <td>0</td>\n",
       "      <td>1</td>\n",
       "      <td>2</td>\n",
       "      <td>3</td>\n",
       "      <td>5</td>\n",
       "      <td>2</td>\n",
       "      <td>2018</td>\n",
       "      <td>0</td>\n",
       "    </tr>\n",
       "    <tr>\n",
       "      <th>697</th>\n",
       "      <td>True</td>\n",
       "      <td>False</td>\n",
       "      <td>False</td>\n",
       "      <td>False</td>\n",
       "      <td>2018-05-24</td>\n",
       "      <td>330</td>\n",
       "      <td>16</td>\n",
       "      <td>28</td>\n",
       "      <td>237.656</td>\n",
       "      <td>25</td>\n",
       "      <td>1</td>\n",
       "      <td>0</td>\n",
       "      <td>0</td>\n",
       "      <td>8</td>\n",
       "      <td>5</td>\n",
       "      <td>3</td>\n",
       "      <td>2018</td>\n",
       "      <td>1</td>\n",
       "    </tr>\n",
       "    <tr>\n",
       "      <th>698</th>\n",
       "      <td>False</td>\n",
       "      <td>False</td>\n",
       "      <td>False</td>\n",
       "      <td>True</td>\n",
       "      <td>2018-05-24</td>\n",
       "      <td>235</td>\n",
       "      <td>16</td>\n",
       "      <td>32</td>\n",
       "      <td>237.656</td>\n",
       "      <td>25</td>\n",
       "      <td>1</td>\n",
       "      <td>0</td>\n",
       "      <td>0</td>\n",
       "      <td>2</td>\n",
       "      <td>5</td>\n",
       "      <td>3</td>\n",
       "      <td>2018</td>\n",
       "      <td>0</td>\n",
       "    </tr>\n",
       "    <tr>\n",
       "      <th>699</th>\n",
       "      <td>False</td>\n",
       "      <td>False</td>\n",
       "      <td>False</td>\n",
       "      <td>True</td>\n",
       "      <td>2018-05-31</td>\n",
       "      <td>291</td>\n",
       "      <td>31</td>\n",
       "      <td>40</td>\n",
       "      <td>237.656</td>\n",
       "      <td>25</td>\n",
       "      <td>0</td>\n",
       "      <td>1</td>\n",
       "      <td>1</td>\n",
       "      <td>2</td>\n",
       "      <td>5</td>\n",
       "      <td>3</td>\n",
       "      <td>2018</td>\n",
       "      <td>0</td>\n",
       "    </tr>\n",
       "  </tbody>\n",
       "</table>\n",
       "<p>700 rows × 18 columns</p>\n",
       "</div>"
      ],
      "text/plain": [
       "     Reason_1  Reason_2  Reason_3  Reason_4        Date  \\\n",
       "0       False     False     False      True  2015-07-07   \n",
       "1       False     False     False     False  2015-07-14   \n",
       "2       False     False     False      True  2015-07-15   \n",
       "3        True     False     False     False  2015-07-16   \n",
       "4       False     False     False      True  2015-07-23   \n",
       "..        ...       ...       ...       ...         ...   \n",
       "695      True     False     False     False  2018-05-23   \n",
       "696      True     False     False     False  2018-05-23   \n",
       "697      True     False     False     False  2018-05-24   \n",
       "698     False     False     False      True  2018-05-24   \n",
       "699     False     False     False      True  2018-05-31   \n",
       "\n",
       "     Transportation Expense  Distance to Work  Age  Daily Work Load Average  \\\n",
       "0                       289                36   33                  239.554   \n",
       "1                       118                13   50                  239.554   \n",
       "2                       179                51   38                  239.554   \n",
       "3                       279                 5   39                  239.554   \n",
       "4                       289                36   33                  239.554   \n",
       "..                      ...               ...  ...                      ...   \n",
       "695                     179                22   40                  237.656   \n",
       "696                     225                26   28                  237.656   \n",
       "697                     330                16   28                  237.656   \n",
       "698                     235                16   32                  237.656   \n",
       "699                     291                31   40                  237.656   \n",
       "\n",
       "     Body Mass Index  Education  Children  Pets  Absenteeism Time in Hours  \\\n",
       "0                 30          0         2     1                          4   \n",
       "1                 31          0         1     0                          0   \n",
       "2                 31          0         0     0                          2   \n",
       "3                 24          0         2     0                          4   \n",
       "4                 30          0         2     1                          2   \n",
       "..               ...        ...       ...   ...                        ...   \n",
       "695               22          1         2     0                          8   \n",
       "696               24          0         1     2                          3   \n",
       "697               25          1         0     0                          8   \n",
       "698               25          1         0     0                          2   \n",
       "699               25          0         1     1                          2   \n",
       "\n",
       "     Month  WeekDay  Year  Excessive Absenteeism  \n",
       "0        7        1  2015                      1  \n",
       "1        7        1  2015                      0  \n",
       "2        7        2  2015                      0  \n",
       "3        7        3  2015                      1  \n",
       "4        7        3  2015                      0  \n",
       "..     ...      ...   ...                    ...  \n",
       "695      5        2  2018                      1  \n",
       "696      5        2  2018                      0  \n",
       "697      5        3  2018                      1  \n",
       "698      5        3  2018                      0  \n",
       "699      5        3  2018                      0  \n",
       "\n",
       "[700 rows x 18 columns]"
      ]
     },
     "execution_count": 6,
     "metadata": {},
     "output_type": "execute_result"
    }
   ],
   "source": [
    "df['Excessive Absenteeism'] = targets\n",
    "df"
   ]
  },
  {
   "cell_type": "code",
   "execution_count": 7,
   "id": "7b1deade",
   "metadata": {
    "execution": {
     "iopub.execute_input": "2024-04-24T09:44:52.646469Z",
     "iopub.status.busy": "2024-04-24T09:44:52.645524Z",
     "iopub.status.idle": "2024-04-24T09:44:52.653004Z",
     "shell.execute_reply": "2024-04-24T09:44:52.652181Z"
    },
    "papermill": {
     "duration": 0.023517,
     "end_time": "2024-04-24T09:44:52.654838",
     "exception": false,
     "start_time": "2024-04-24T09:44:52.631321",
     "status": "completed"
    },
    "tags": []
   },
   "outputs": [],
   "source": [
    "df = df[['Reason_1', 'Reason_2', 'Reason_3', 'Reason_4','Month','WeekDay','Transportation Expense', 'Distance to Work', 'Age',\n",
    "       'Daily Work Load Average', 'Body Mass Index', 'Education', 'Children',\n",
    "       'Pets', 'Absenteeism Time in Hours','Excessive Absenteeism']]"
   ]
  },
  {
   "cell_type": "code",
   "execution_count": 8,
   "id": "fea2e78c",
   "metadata": {
    "execution": {
     "iopub.execute_input": "2024-04-24T09:44:52.682381Z",
     "iopub.status.busy": "2024-04-24T09:44:52.681765Z",
     "iopub.status.idle": "2024-04-24T09:44:52.686968Z",
     "shell.execute_reply": "2024-04-24T09:44:52.686273Z"
    },
    "papermill": {
     "duration": 0.021191,
     "end_time": "2024-04-24T09:44:52.688817",
     "exception": false,
     "start_time": "2024-04-24T09:44:52.667626",
     "status": "completed"
    },
    "tags": []
   },
   "outputs": [
    {
     "data": {
      "text/plain": [
       "0.45571428571428574"
      ]
     },
     "execution_count": 8,
     "metadata": {},
     "output_type": "execute_result"
    }
   ],
   "source": [
    "#sprawdzamy rozkład danych excessive_absenteeism: cutoff:mediana -->stosunek 0 do 1 powinien być w granicach 0,4-0,6\n",
    "targets.sum()/targets.shape[0]"
   ]
  },
  {
   "cell_type": "code",
   "execution_count": 9,
   "id": "332e417f",
   "metadata": {
    "execution": {
     "iopub.execute_input": "2024-04-24T09:44:52.717635Z",
     "iopub.status.busy": "2024-04-24T09:44:52.716518Z",
     "iopub.status.idle": "2024-04-24T09:44:52.733273Z",
     "shell.execute_reply": "2024-04-24T09:44:52.732480Z"
    },
    "papermill": {
     "duration": 0.033762,
     "end_time": "2024-04-24T09:44:52.735434",
     "exception": false,
     "start_time": "2024-04-24T09:44:52.701672",
     "status": "completed"
    },
    "tags": []
   },
   "outputs": [
    {
     "data": {
      "text/html": [
       "<div>\n",
       "<style scoped>\n",
       "    .dataframe tbody tr th:only-of-type {\n",
       "        vertical-align: middle;\n",
       "    }\n",
       "\n",
       "    .dataframe tbody tr th {\n",
       "        vertical-align: top;\n",
       "    }\n",
       "\n",
       "    .dataframe thead th {\n",
       "        text-align: right;\n",
       "    }\n",
       "</style>\n",
       "<table border=\"1\" class=\"dataframe\">\n",
       "  <thead>\n",
       "    <tr style=\"text-align: right;\">\n",
       "      <th></th>\n",
       "      <th>Reason_1</th>\n",
       "      <th>Reason_2</th>\n",
       "      <th>Reason_3</th>\n",
       "      <th>Reason_4</th>\n",
       "      <th>Month</th>\n",
       "      <th>Transportation Expense</th>\n",
       "      <th>Age</th>\n",
       "      <th>Body Mass Index</th>\n",
       "      <th>Education</th>\n",
       "      <th>Children</th>\n",
       "      <th>Pets</th>\n",
       "      <th>Excessive Absenteeism</th>\n",
       "    </tr>\n",
       "  </thead>\n",
       "  <tbody>\n",
       "    <tr>\n",
       "      <th>0</th>\n",
       "      <td>False</td>\n",
       "      <td>False</td>\n",
       "      <td>False</td>\n",
       "      <td>True</td>\n",
       "      <td>7</td>\n",
       "      <td>289</td>\n",
       "      <td>33</td>\n",
       "      <td>30</td>\n",
       "      <td>0</td>\n",
       "      <td>2</td>\n",
       "      <td>1</td>\n",
       "      <td>1</td>\n",
       "    </tr>\n",
       "    <tr>\n",
       "      <th>1</th>\n",
       "      <td>False</td>\n",
       "      <td>False</td>\n",
       "      <td>False</td>\n",
       "      <td>False</td>\n",
       "      <td>7</td>\n",
       "      <td>118</td>\n",
       "      <td>50</td>\n",
       "      <td>31</td>\n",
       "      <td>0</td>\n",
       "      <td>1</td>\n",
       "      <td>0</td>\n",
       "      <td>0</td>\n",
       "    </tr>\n",
       "    <tr>\n",
       "      <th>2</th>\n",
       "      <td>False</td>\n",
       "      <td>False</td>\n",
       "      <td>False</td>\n",
       "      <td>True</td>\n",
       "      <td>7</td>\n",
       "      <td>179</td>\n",
       "      <td>38</td>\n",
       "      <td>31</td>\n",
       "      <td>0</td>\n",
       "      <td>0</td>\n",
       "      <td>0</td>\n",
       "      <td>0</td>\n",
       "    </tr>\n",
       "    <tr>\n",
       "      <th>3</th>\n",
       "      <td>True</td>\n",
       "      <td>False</td>\n",
       "      <td>False</td>\n",
       "      <td>False</td>\n",
       "      <td>7</td>\n",
       "      <td>279</td>\n",
       "      <td>39</td>\n",
       "      <td>24</td>\n",
       "      <td>0</td>\n",
       "      <td>2</td>\n",
       "      <td>0</td>\n",
       "      <td>1</td>\n",
       "    </tr>\n",
       "    <tr>\n",
       "      <th>4</th>\n",
       "      <td>False</td>\n",
       "      <td>False</td>\n",
       "      <td>False</td>\n",
       "      <td>True</td>\n",
       "      <td>7</td>\n",
       "      <td>289</td>\n",
       "      <td>33</td>\n",
       "      <td>30</td>\n",
       "      <td>0</td>\n",
       "      <td>2</td>\n",
       "      <td>1</td>\n",
       "      <td>0</td>\n",
       "    </tr>\n",
       "    <tr>\n",
       "      <th>...</th>\n",
       "      <td>...</td>\n",
       "      <td>...</td>\n",
       "      <td>...</td>\n",
       "      <td>...</td>\n",
       "      <td>...</td>\n",
       "      <td>...</td>\n",
       "      <td>...</td>\n",
       "      <td>...</td>\n",
       "      <td>...</td>\n",
       "      <td>...</td>\n",
       "      <td>...</td>\n",
       "      <td>...</td>\n",
       "    </tr>\n",
       "    <tr>\n",
       "      <th>695</th>\n",
       "      <td>True</td>\n",
       "      <td>False</td>\n",
       "      <td>False</td>\n",
       "      <td>False</td>\n",
       "      <td>5</td>\n",
       "      <td>179</td>\n",
       "      <td>40</td>\n",
       "      <td>22</td>\n",
       "      <td>1</td>\n",
       "      <td>2</td>\n",
       "      <td>0</td>\n",
       "      <td>1</td>\n",
       "    </tr>\n",
       "    <tr>\n",
       "      <th>696</th>\n",
       "      <td>True</td>\n",
       "      <td>False</td>\n",
       "      <td>False</td>\n",
       "      <td>False</td>\n",
       "      <td>5</td>\n",
       "      <td>225</td>\n",
       "      <td>28</td>\n",
       "      <td>24</td>\n",
       "      <td>0</td>\n",
       "      <td>1</td>\n",
       "      <td>2</td>\n",
       "      <td>0</td>\n",
       "    </tr>\n",
       "    <tr>\n",
       "      <th>697</th>\n",
       "      <td>True</td>\n",
       "      <td>False</td>\n",
       "      <td>False</td>\n",
       "      <td>False</td>\n",
       "      <td>5</td>\n",
       "      <td>330</td>\n",
       "      <td>28</td>\n",
       "      <td>25</td>\n",
       "      <td>1</td>\n",
       "      <td>0</td>\n",
       "      <td>0</td>\n",
       "      <td>1</td>\n",
       "    </tr>\n",
       "    <tr>\n",
       "      <th>698</th>\n",
       "      <td>False</td>\n",
       "      <td>False</td>\n",
       "      <td>False</td>\n",
       "      <td>True</td>\n",
       "      <td>5</td>\n",
       "      <td>235</td>\n",
       "      <td>32</td>\n",
       "      <td>25</td>\n",
       "      <td>1</td>\n",
       "      <td>0</td>\n",
       "      <td>0</td>\n",
       "      <td>0</td>\n",
       "    </tr>\n",
       "    <tr>\n",
       "      <th>699</th>\n",
       "      <td>False</td>\n",
       "      <td>False</td>\n",
       "      <td>False</td>\n",
       "      <td>True</td>\n",
       "      <td>5</td>\n",
       "      <td>291</td>\n",
       "      <td>40</td>\n",
       "      <td>25</td>\n",
       "      <td>0</td>\n",
       "      <td>1</td>\n",
       "      <td>1</td>\n",
       "      <td>0</td>\n",
       "    </tr>\n",
       "  </tbody>\n",
       "</table>\n",
       "<p>700 rows × 12 columns</p>\n",
       "</div>"
      ],
      "text/plain": [
       "     Reason_1  Reason_2  Reason_3  Reason_4  Month  Transportation Expense  \\\n",
       "0       False     False     False      True      7                     289   \n",
       "1       False     False     False     False      7                     118   \n",
       "2       False     False     False      True      7                     179   \n",
       "3        True     False     False     False      7                     279   \n",
       "4       False     False     False      True      7                     289   \n",
       "..        ...       ...       ...       ...    ...                     ...   \n",
       "695      True     False     False     False      5                     179   \n",
       "696      True     False     False     False      5                     225   \n",
       "697      True     False     False     False      5                     330   \n",
       "698     False     False     False      True      5                     235   \n",
       "699     False     False     False      True      5                     291   \n",
       "\n",
       "     Age  Body Mass Index  Education  Children  Pets  Excessive Absenteeism  \n",
       "0     33               30          0         2     1                      1  \n",
       "1     50               31          0         1     0                      0  \n",
       "2     38               31          0         0     0                      0  \n",
       "3     39               24          0         2     0                      1  \n",
       "4     33               30          0         2     1                      0  \n",
       "..   ...              ...        ...       ...   ...                    ...  \n",
       "695   40               22          1         2     0                      1  \n",
       "696   28               24          0         1     2                      0  \n",
       "697   28               25          1         0     0                      1  \n",
       "698   32               25          1         0     0                      0  \n",
       "699   40               25          0         1     1                      0  \n",
       "\n",
       "[700 rows x 12 columns]"
      ]
     },
     "execution_count": 9,
     "metadata": {},
     "output_type": "execute_result"
    }
   ],
   "source": [
    "#checkpoint= preprocessing data \n",
    "data_with_targets = df.drop(['Absenteeism Time in Hours','WeekDay','Daily Work Load Average','Distance to Work'],axis=1)\n",
    "data_with_targets"
   ]
  },
  {
   "cell_type": "code",
   "execution_count": 10,
   "id": "cd9c87f6",
   "metadata": {
    "execution": {
     "iopub.execute_input": "2024-04-24T09:44:52.764245Z",
     "iopub.status.busy": "2024-04-24T09:44:52.763654Z",
     "iopub.status.idle": "2024-04-24T09:44:52.768646Z",
     "shell.execute_reply": "2024-04-24T09:44:52.767889Z"
    },
    "papermill": {
     "duration": 0.021592,
     "end_time": "2024-04-24T09:44:52.770506",
     "exception": false,
     "start_time": "2024-04-24T09:44:52.748914",
     "status": "completed"
    },
    "tags": []
   },
   "outputs": [
    {
     "data": {
      "text/plain": [
       "False"
      ]
     },
     "execution_count": 10,
     "metadata": {},
     "output_type": "execute_result"
    }
   ],
   "source": [
    "df is data_with_targets"
   ]
  },
  {
   "cell_type": "code",
   "execution_count": 11,
   "id": "f265214c",
   "metadata": {
    "execution": {
     "iopub.execute_input": "2024-04-24T09:44:52.798776Z",
     "iopub.status.busy": "2024-04-24T09:44:52.798211Z",
     "iopub.status.idle": "2024-04-24T09:44:52.803926Z",
     "shell.execute_reply": "2024-04-24T09:44:52.802949Z"
    },
    "papermill": {
     "duration": 0.022376,
     "end_time": "2024-04-24T09:44:52.806009",
     "exception": false,
     "start_time": "2024-04-24T09:44:52.783633",
     "status": "completed"
    },
    "tags": []
   },
   "outputs": [
    {
     "data": {
      "text/plain": [
       "(700, 12)"
      ]
     },
     "execution_count": 11,
     "metadata": {},
     "output_type": "execute_result"
    }
   ],
   "source": [
    "data_with_targets.shape"
   ]
  },
  {
   "cell_type": "code",
   "execution_count": 12,
   "id": "2c4de8bb",
   "metadata": {
    "execution": {
     "iopub.execute_input": "2024-04-24T09:44:52.836002Z",
     "iopub.status.busy": "2024-04-24T09:44:52.835425Z",
     "iopub.status.idle": "2024-04-24T09:44:52.850623Z",
     "shell.execute_reply": "2024-04-24T09:44:52.849322Z"
    },
    "papermill": {
     "duration": 0.032865,
     "end_time": "2024-04-24T09:44:52.852815",
     "exception": false,
     "start_time": "2024-04-24T09:44:52.819950",
     "status": "completed"
    },
    "tags": []
   },
   "outputs": [
    {
     "data": {
      "text/html": [
       "<div>\n",
       "<style scoped>\n",
       "    .dataframe tbody tr th:only-of-type {\n",
       "        vertical-align: middle;\n",
       "    }\n",
       "\n",
       "    .dataframe tbody tr th {\n",
       "        vertical-align: top;\n",
       "    }\n",
       "\n",
       "    .dataframe thead th {\n",
       "        text-align: right;\n",
       "    }\n",
       "</style>\n",
       "<table border=\"1\" class=\"dataframe\">\n",
       "  <thead>\n",
       "    <tr style=\"text-align: right;\">\n",
       "      <th></th>\n",
       "      <th>Reason_1</th>\n",
       "      <th>Reason_2</th>\n",
       "      <th>Reason_3</th>\n",
       "      <th>Reason_4</th>\n",
       "      <th>Month</th>\n",
       "      <th>Transportation Expense</th>\n",
       "      <th>Age</th>\n",
       "      <th>Body Mass Index</th>\n",
       "      <th>Education</th>\n",
       "      <th>Children</th>\n",
       "      <th>Pets</th>\n",
       "      <th>Excessive Absenteeism</th>\n",
       "    </tr>\n",
       "  </thead>\n",
       "  <tbody>\n",
       "    <tr>\n",
       "      <th>0</th>\n",
       "      <td>False</td>\n",
       "      <td>False</td>\n",
       "      <td>False</td>\n",
       "      <td>True</td>\n",
       "      <td>7</td>\n",
       "      <td>289</td>\n",
       "      <td>33</td>\n",
       "      <td>30</td>\n",
       "      <td>0</td>\n",
       "      <td>2</td>\n",
       "      <td>1</td>\n",
       "      <td>1</td>\n",
       "    </tr>\n",
       "    <tr>\n",
       "      <th>1</th>\n",
       "      <td>False</td>\n",
       "      <td>False</td>\n",
       "      <td>False</td>\n",
       "      <td>False</td>\n",
       "      <td>7</td>\n",
       "      <td>118</td>\n",
       "      <td>50</td>\n",
       "      <td>31</td>\n",
       "      <td>0</td>\n",
       "      <td>1</td>\n",
       "      <td>0</td>\n",
       "      <td>0</td>\n",
       "    </tr>\n",
       "    <tr>\n",
       "      <th>2</th>\n",
       "      <td>False</td>\n",
       "      <td>False</td>\n",
       "      <td>False</td>\n",
       "      <td>True</td>\n",
       "      <td>7</td>\n",
       "      <td>179</td>\n",
       "      <td>38</td>\n",
       "      <td>31</td>\n",
       "      <td>0</td>\n",
       "      <td>0</td>\n",
       "      <td>0</td>\n",
       "      <td>0</td>\n",
       "    </tr>\n",
       "    <tr>\n",
       "      <th>3</th>\n",
       "      <td>True</td>\n",
       "      <td>False</td>\n",
       "      <td>False</td>\n",
       "      <td>False</td>\n",
       "      <td>7</td>\n",
       "      <td>279</td>\n",
       "      <td>39</td>\n",
       "      <td>24</td>\n",
       "      <td>0</td>\n",
       "      <td>2</td>\n",
       "      <td>0</td>\n",
       "      <td>1</td>\n",
       "    </tr>\n",
       "    <tr>\n",
       "      <th>4</th>\n",
       "      <td>False</td>\n",
       "      <td>False</td>\n",
       "      <td>False</td>\n",
       "      <td>True</td>\n",
       "      <td>7</td>\n",
       "      <td>289</td>\n",
       "      <td>33</td>\n",
       "      <td>30</td>\n",
       "      <td>0</td>\n",
       "      <td>2</td>\n",
       "      <td>1</td>\n",
       "      <td>0</td>\n",
       "    </tr>\n",
       "    <tr>\n",
       "      <th>...</th>\n",
       "      <td>...</td>\n",
       "      <td>...</td>\n",
       "      <td>...</td>\n",
       "      <td>...</td>\n",
       "      <td>...</td>\n",
       "      <td>...</td>\n",
       "      <td>...</td>\n",
       "      <td>...</td>\n",
       "      <td>...</td>\n",
       "      <td>...</td>\n",
       "      <td>...</td>\n",
       "      <td>...</td>\n",
       "    </tr>\n",
       "    <tr>\n",
       "      <th>695</th>\n",
       "      <td>True</td>\n",
       "      <td>False</td>\n",
       "      <td>False</td>\n",
       "      <td>False</td>\n",
       "      <td>5</td>\n",
       "      <td>179</td>\n",
       "      <td>40</td>\n",
       "      <td>22</td>\n",
       "      <td>1</td>\n",
       "      <td>2</td>\n",
       "      <td>0</td>\n",
       "      <td>1</td>\n",
       "    </tr>\n",
       "    <tr>\n",
       "      <th>696</th>\n",
       "      <td>True</td>\n",
       "      <td>False</td>\n",
       "      <td>False</td>\n",
       "      <td>False</td>\n",
       "      <td>5</td>\n",
       "      <td>225</td>\n",
       "      <td>28</td>\n",
       "      <td>24</td>\n",
       "      <td>0</td>\n",
       "      <td>1</td>\n",
       "      <td>2</td>\n",
       "      <td>0</td>\n",
       "    </tr>\n",
       "    <tr>\n",
       "      <th>697</th>\n",
       "      <td>True</td>\n",
       "      <td>False</td>\n",
       "      <td>False</td>\n",
       "      <td>False</td>\n",
       "      <td>5</td>\n",
       "      <td>330</td>\n",
       "      <td>28</td>\n",
       "      <td>25</td>\n",
       "      <td>1</td>\n",
       "      <td>0</td>\n",
       "      <td>0</td>\n",
       "      <td>1</td>\n",
       "    </tr>\n",
       "    <tr>\n",
       "      <th>698</th>\n",
       "      <td>False</td>\n",
       "      <td>False</td>\n",
       "      <td>False</td>\n",
       "      <td>True</td>\n",
       "      <td>5</td>\n",
       "      <td>235</td>\n",
       "      <td>32</td>\n",
       "      <td>25</td>\n",
       "      <td>1</td>\n",
       "      <td>0</td>\n",
       "      <td>0</td>\n",
       "      <td>0</td>\n",
       "    </tr>\n",
       "    <tr>\n",
       "      <th>699</th>\n",
       "      <td>False</td>\n",
       "      <td>False</td>\n",
       "      <td>False</td>\n",
       "      <td>True</td>\n",
       "      <td>5</td>\n",
       "      <td>291</td>\n",
       "      <td>40</td>\n",
       "      <td>25</td>\n",
       "      <td>0</td>\n",
       "      <td>1</td>\n",
       "      <td>1</td>\n",
       "      <td>0</td>\n",
       "    </tr>\n",
       "  </tbody>\n",
       "</table>\n",
       "<p>700 rows × 12 columns</p>\n",
       "</div>"
      ],
      "text/plain": [
       "     Reason_1  Reason_2  Reason_3  Reason_4  Month  Transportation Expense  \\\n",
       "0       False     False     False      True      7                     289   \n",
       "1       False     False     False     False      7                     118   \n",
       "2       False     False     False      True      7                     179   \n",
       "3        True     False     False     False      7                     279   \n",
       "4       False     False     False      True      7                     289   \n",
       "..        ...       ...       ...       ...    ...                     ...   \n",
       "695      True     False     False     False      5                     179   \n",
       "696      True     False     False     False      5                     225   \n",
       "697      True     False     False     False      5                     330   \n",
       "698     False     False     False      True      5                     235   \n",
       "699     False     False     False      True      5                     291   \n",
       "\n",
       "     Age  Body Mass Index  Education  Children  Pets  Excessive Absenteeism  \n",
       "0     33               30          0         2     1                      1  \n",
       "1     50               31          0         1     0                      0  \n",
       "2     38               31          0         0     0                      0  \n",
       "3     39               24          0         2     0                      1  \n",
       "4     33               30          0         2     1                      0  \n",
       "..   ...              ...        ...       ...   ...                    ...  \n",
       "695   40               22          1         2     0                      1  \n",
       "696   28               24          0         1     2                      0  \n",
       "697   28               25          1         0     0                      1  \n",
       "698   32               25          1         0     0                      0  \n",
       "699   40               25          0         1     1                      0  \n",
       "\n",
       "[700 rows x 12 columns]"
      ]
     },
     "execution_count": 12,
     "metadata": {},
     "output_type": "execute_result"
    }
   ],
   "source": [
    "# .iloc: [row indices,column indices] -isolating the target column: excessive absenteeism\n",
    "data_with_targets.iloc[:,:14]"
   ]
  },
  {
   "cell_type": "code",
   "execution_count": 13,
   "id": "156c51b9",
   "metadata": {
    "execution": {
     "iopub.execute_input": "2024-04-24T09:44:52.883774Z",
     "iopub.status.busy": "2024-04-24T09:44:52.882702Z",
     "iopub.status.idle": "2024-04-24T09:44:52.888674Z",
     "shell.execute_reply": "2024-04-24T09:44:52.887597Z"
    },
    "papermill": {
     "duration": 0.023977,
     "end_time": "2024-04-24T09:44:52.891025",
     "exception": false,
     "start_time": "2024-04-24T09:44:52.867048",
     "status": "completed"
    },
    "tags": []
   },
   "outputs": [],
   "source": [
    "#scaling preparation-Standardization\n",
    "unscaled_inputs = data_with_targets.iloc[:,:-1]"
   ]
  },
  {
   "cell_type": "code",
   "execution_count": 14,
   "id": "035b1747",
   "metadata": {
    "execution": {
     "iopub.execute_input": "2024-04-24T09:44:52.921641Z",
     "iopub.status.busy": "2024-04-24T09:44:52.921273Z",
     "iopub.status.idle": "2024-04-24T09:44:52.926210Z",
     "shell.execute_reply": "2024-04-24T09:44:52.925095Z"
    },
    "papermill": {
     "duration": 0.023605,
     "end_time": "2024-04-24T09:44:52.928478",
     "exception": false,
     "start_time": "2024-04-24T09:44:52.904873",
     "status": "completed"
    },
    "tags": []
   },
   "outputs": [],
   "source": [
    "#from sklearn.preprocessing import StandardScaler\n",
    "#abs_scaler = StandardScaler()\n",
    "#applied standardizaiton: substracting mean and division by standard deviation "
   ]
  },
  {
   "cell_type": "code",
   "execution_count": 15,
   "id": "a847c0fd",
   "metadata": {
    "execution": {
     "iopub.execute_input": "2024-04-24T09:44:52.959107Z",
     "iopub.status.busy": "2024-04-24T09:44:52.958313Z",
     "iopub.status.idle": "2024-04-24T09:44:54.258418Z",
     "shell.execute_reply": "2024-04-24T09:44:54.257404Z"
    },
    "papermill": {
     "duration": 1.318188,
     "end_time": "2024-04-24T09:44:54.260829",
     "exception": false,
     "start_time": "2024-04-24T09:44:52.942641",
     "status": "completed"
    },
    "tags": []
   },
   "outputs": [],
   "source": [
    "from sklearn.base import BaseEstimator, TransformerMixin\n",
    "from sklearn.preprocessing import StandardScaler\n",
    "\n",
    "class CustomScaler(BaseEstimator,TransformerMixin): \n",
    "    \n",
    "    \n",
    "    def __init__(self,columns):\n",
    "        \n",
    "        self.scaler = StandardScaler()\n",
    "        self.columns = columns\n",
    "        self.mean_ = None\n",
    "        self.var_ = None\n",
    "        \n",
    "    \n",
    "    \n",
    "    def fit(self, X, y=None):\n",
    "        self.scaler = StandardScaler()\n",
    "        self.scaler.fit(X[self.columns], y)\n",
    "        self.mean_ = np.mean(X[self.columns])\n",
    "        self.var_ = np.var(X[self.columns])\n",
    "        return self\n",
    "    \n",
    "\n",
    "    def transform(self, X, y=None, copy=None):\n",
    "        \n",
    "        init_col_order = X.columns\n",
    "        \n",
    "        X_scaled = pd.DataFrame(self.scaler.transform(X[self.columns]), columns=self.columns)\n",
    "        \n",
    "        X_not_scaled = X.loc[:,~X.columns.isin(self.columns)]\n",
    "        \n",
    "        return pd.concat([X_not_scaled, X_scaled], axis=1)[init_col_order]"
   ]
  },
  {
   "cell_type": "code",
   "execution_count": 16,
   "id": "64d84100",
   "metadata": {
    "execution": {
     "iopub.execute_input": "2024-04-24T09:44:54.291644Z",
     "iopub.status.busy": "2024-04-24T09:44:54.291249Z",
     "iopub.status.idle": "2024-04-24T09:44:54.298207Z",
     "shell.execute_reply": "2024-04-24T09:44:54.297062Z"
    },
    "papermill": {
     "duration": 0.024727,
     "end_time": "2024-04-24T09:44:54.300262",
     "exception": false,
     "start_time": "2024-04-24T09:44:54.275535",
     "status": "completed"
    },
    "tags": []
   },
   "outputs": [
    {
     "data": {
      "text/plain": [
       "array(['Reason_1', 'Reason_2', 'Reason_3', 'Reason_4', 'Month',\n",
       "       'Transportation Expense', 'Age', 'Body Mass Index', 'Education',\n",
       "       'Children', 'Pets'], dtype=object)"
      ]
     },
     "execution_count": 16,
     "metadata": {},
     "output_type": "execute_result"
    }
   ],
   "source": [
    "unscaled_inputs.columns.values"
   ]
  },
  {
   "cell_type": "code",
   "execution_count": 17,
   "id": "94156dc0",
   "metadata": {
    "execution": {
     "iopub.execute_input": "2024-04-24T09:44:54.329630Z",
     "iopub.status.busy": "2024-04-24T09:44:54.329272Z",
     "iopub.status.idle": "2024-04-24T09:44:54.334473Z",
     "shell.execute_reply": "2024-04-24T09:44:54.333440Z"
    },
    "papermill": {
     "duration": 0.022433,
     "end_time": "2024-04-24T09:44:54.336609",
     "exception": false,
     "start_time": "2024-04-24T09:44:54.314176",
     "status": "completed"
    },
    "tags": []
   },
   "outputs": [],
   "source": [
    "#columns_to_scale = [ 'Month', 'WeekDay',\n",
    "       #'Transportation Expense', 'Distance to Work', 'Age',\n",
    "       #'Daily Work Load Average', 'Body Mass Index', 'Children', 'Pets']\n",
    "        \n",
    "columns_to_omit = ['Reason_1', 'Reason_2', 'Reason_3', 'Reason_4','Education']"
   ]
  },
  {
   "cell_type": "code",
   "execution_count": 18,
   "id": "e291fd2b",
   "metadata": {
    "execution": {
     "iopub.execute_input": "2024-04-24T09:44:54.367119Z",
     "iopub.status.busy": "2024-04-24T09:44:54.366034Z",
     "iopub.status.idle": "2024-04-24T09:44:54.370890Z",
     "shell.execute_reply": "2024-04-24T09:44:54.369986Z"
    },
    "papermill": {
     "duration": 0.022052,
     "end_time": "2024-04-24T09:44:54.373002",
     "exception": false,
     "start_time": "2024-04-24T09:44:54.350950",
     "status": "completed"
    },
    "tags": []
   },
   "outputs": [],
   "source": [
    "columns_to_scale = [x for x in unscaled_inputs.columns.values if x not in columns_to_omit]"
   ]
  },
  {
   "cell_type": "code",
   "execution_count": 19,
   "id": "8c6a7a0c",
   "metadata": {
    "execution": {
     "iopub.execute_input": "2024-04-24T09:44:54.402849Z",
     "iopub.status.busy": "2024-04-24T09:44:54.401816Z",
     "iopub.status.idle": "2024-04-24T09:44:54.408675Z",
     "shell.execute_reply": "2024-04-24T09:44:54.407649Z"
    },
    "papermill": {
     "duration": 0.024068,
     "end_time": "2024-04-24T09:44:54.410727",
     "exception": false,
     "start_time": "2024-04-24T09:44:54.386659",
     "status": "completed"
    },
    "tags": []
   },
   "outputs": [
    {
     "data": {
      "text/plain": [
       "['Month',\n",
       " 'Transportation Expense',\n",
       " 'Age',\n",
       " 'Body Mass Index',\n",
       " 'Children',\n",
       " 'Pets']"
      ]
     },
     "execution_count": 19,
     "metadata": {},
     "output_type": "execute_result"
    }
   ],
   "source": [
    "columns_to_scale"
   ]
  },
  {
   "cell_type": "code",
   "execution_count": 20,
   "id": "424678bb",
   "metadata": {
    "execution": {
     "iopub.execute_input": "2024-04-24T09:44:54.441174Z",
     "iopub.status.busy": "2024-04-24T09:44:54.440340Z",
     "iopub.status.idle": "2024-04-24T09:44:54.445751Z",
     "shell.execute_reply": "2024-04-24T09:44:54.444502Z"
    },
    "papermill": {
     "duration": 0.023127,
     "end_time": "2024-04-24T09:44:54.448083",
     "exception": false,
     "start_time": "2024-04-24T09:44:54.424956",
     "status": "completed"
    },
    "tags": []
   },
   "outputs": [],
   "source": [
    "abs_scaler = CustomScaler(columns_to_scale)"
   ]
  },
  {
   "cell_type": "code",
   "execution_count": 21,
   "id": "ff7669b3",
   "metadata": {
    "execution": {
     "iopub.execute_input": "2024-04-24T09:44:54.478422Z",
     "iopub.status.busy": "2024-04-24T09:44:54.478024Z",
     "iopub.status.idle": "2024-04-24T09:44:54.499933Z",
     "shell.execute_reply": "2024-04-24T09:44:54.498701Z"
    },
    "papermill": {
     "duration": 0.040311,
     "end_time": "2024-04-24T09:44:54.502755",
     "exception": false,
     "start_time": "2024-04-24T09:44:54.462444",
     "status": "completed"
    },
    "tags": []
   },
   "outputs": [
    {
     "name": "stderr",
     "output_type": "stream",
     "text": [
      "/opt/conda/lib/python3.10/site-packages/numpy/core/fromnumeric.py:3785: FutureWarning: The behavior of DataFrame.var with axis=None is deprecated, in a future version this will reduce over both axes and return a scalar. To retain the old behavior, pass axis=0 (or do not pass axis)\n",
      "  return var(axis=axis, dtype=dtype, out=out, ddof=ddof, **kwargs)\n"
     ]
    },
    {
     "data": {
      "text/html": [
       "<style>#sk-container-id-1 {color: black;background-color: white;}#sk-container-id-1 pre{padding: 0;}#sk-container-id-1 div.sk-toggleable {background-color: white;}#sk-container-id-1 label.sk-toggleable__label {cursor: pointer;display: block;width: 100%;margin-bottom: 0;padding: 0.3em;box-sizing: border-box;text-align: center;}#sk-container-id-1 label.sk-toggleable__label-arrow:before {content: \"▸\";float: left;margin-right: 0.25em;color: #696969;}#sk-container-id-1 label.sk-toggleable__label-arrow:hover:before {color: black;}#sk-container-id-1 div.sk-estimator:hover label.sk-toggleable__label-arrow:before {color: black;}#sk-container-id-1 div.sk-toggleable__content {max-height: 0;max-width: 0;overflow: hidden;text-align: left;background-color: #f0f8ff;}#sk-container-id-1 div.sk-toggleable__content pre {margin: 0.2em;color: black;border-radius: 0.25em;background-color: #f0f8ff;}#sk-container-id-1 input.sk-toggleable__control:checked~div.sk-toggleable__content {max-height: 200px;max-width: 100%;overflow: auto;}#sk-container-id-1 input.sk-toggleable__control:checked~label.sk-toggleable__label-arrow:before {content: \"▾\";}#sk-container-id-1 div.sk-estimator input.sk-toggleable__control:checked~label.sk-toggleable__label {background-color: #d4ebff;}#sk-container-id-1 div.sk-label input.sk-toggleable__control:checked~label.sk-toggleable__label {background-color: #d4ebff;}#sk-container-id-1 input.sk-hidden--visually {border: 0;clip: rect(1px 1px 1px 1px);clip: rect(1px, 1px, 1px, 1px);height: 1px;margin: -1px;overflow: hidden;padding: 0;position: absolute;width: 1px;}#sk-container-id-1 div.sk-estimator {font-family: monospace;background-color: #f0f8ff;border: 1px dotted black;border-radius: 0.25em;box-sizing: border-box;margin-bottom: 0.5em;}#sk-container-id-1 div.sk-estimator:hover {background-color: #d4ebff;}#sk-container-id-1 div.sk-parallel-item::after {content: \"\";width: 100%;border-bottom: 1px solid gray;flex-grow: 1;}#sk-container-id-1 div.sk-label:hover label.sk-toggleable__label {background-color: #d4ebff;}#sk-container-id-1 div.sk-serial::before {content: \"\";position: absolute;border-left: 1px solid gray;box-sizing: border-box;top: 0;bottom: 0;left: 50%;z-index: 0;}#sk-container-id-1 div.sk-serial {display: flex;flex-direction: column;align-items: center;background-color: white;padding-right: 0.2em;padding-left: 0.2em;position: relative;}#sk-container-id-1 div.sk-item {position: relative;z-index: 1;}#sk-container-id-1 div.sk-parallel {display: flex;align-items: stretch;justify-content: center;background-color: white;position: relative;}#sk-container-id-1 div.sk-item::before, #sk-container-id-1 div.sk-parallel-item::before {content: \"\";position: absolute;border-left: 1px solid gray;box-sizing: border-box;top: 0;bottom: 0;left: 50%;z-index: -1;}#sk-container-id-1 div.sk-parallel-item {display: flex;flex-direction: column;z-index: 1;position: relative;background-color: white;}#sk-container-id-1 div.sk-parallel-item:first-child::after {align-self: flex-end;width: 50%;}#sk-container-id-1 div.sk-parallel-item:last-child::after {align-self: flex-start;width: 50%;}#sk-container-id-1 div.sk-parallel-item:only-child::after {width: 0;}#sk-container-id-1 div.sk-dashed-wrapped {border: 1px dashed gray;margin: 0 0.4em 0.5em 0.4em;box-sizing: border-box;padding-bottom: 0.4em;background-color: white;}#sk-container-id-1 div.sk-label label {font-family: monospace;font-weight: bold;display: inline-block;line-height: 1.2em;}#sk-container-id-1 div.sk-label-container {text-align: center;}#sk-container-id-1 div.sk-container {/* jupyter's `normalize.less` sets `[hidden] { display: none; }` but bootstrap.min.css set `[hidden] { display: none !important; }` so we also need the `!important` here to be able to override the default hidden behavior on the sphinx rendered scikit-learn.org. See: https://github.com/scikit-learn/scikit-learn/issues/21755 */display: inline-block !important;position: relative;}#sk-container-id-1 div.sk-text-repr-fallback {display: none;}</style><div id=\"sk-container-id-1\" class=\"sk-top-container\"><div class=\"sk-text-repr-fallback\"><pre>CustomScaler(columns=[&#x27;Month&#x27;, &#x27;Transportation Expense&#x27;, &#x27;Age&#x27;,\n",
       "                      &#x27;Body Mass Index&#x27;, &#x27;Children&#x27;, &#x27;Pets&#x27;])</pre><b>In a Jupyter environment, please rerun this cell to show the HTML representation or trust the notebook. <br />On GitHub, the HTML representation is unable to render, please try loading this page with nbviewer.org.</b></div><div class=\"sk-container\" hidden><div class=\"sk-item\"><div class=\"sk-estimator sk-toggleable\"><input class=\"sk-toggleable__control sk-hidden--visually\" id=\"sk-estimator-id-1\" type=\"checkbox\" checked><label for=\"sk-estimator-id-1\" class=\"sk-toggleable__label sk-toggleable__label-arrow\">CustomScaler</label><div class=\"sk-toggleable__content\"><pre>CustomScaler(columns=[&#x27;Month&#x27;, &#x27;Transportation Expense&#x27;, &#x27;Age&#x27;,\n",
       "                      &#x27;Body Mass Index&#x27;, &#x27;Children&#x27;, &#x27;Pets&#x27;])</pre></div></div></div></div></div>"
      ],
      "text/plain": [
       "CustomScaler(columns=['Month', 'Transportation Expense', 'Age',\n",
       "                      'Body Mass Index', 'Children', 'Pets'])"
      ]
     },
     "execution_count": 21,
     "metadata": {},
     "output_type": "execute_result"
    }
   ],
   "source": [
    "#collecting standardization information: mean and stdev\n",
    "#naprawione przez:https://stackoverflow.com/questions/70587280/sklearn-attributeerror-customscaler-object-has-no-attribute-copy\n",
    "abs_scaler.fit(unscaled_inputs)"
   ]
  },
  {
   "cell_type": "markdown",
   "id": "660b1f10",
   "metadata": {
    "papermill": {
     "duration": 0.068367,
     "end_time": "2024-04-24T09:44:54.586146",
     "exception": false,
     "start_time": "2024-04-24T09:44:54.517779",
     "status": "completed"
    },
    "tags": []
   },
   "source": [
    "abs_scaler"
   ]
  },
  {
   "cell_type": "code",
   "execution_count": 22,
   "id": "48fe132f",
   "metadata": {
    "execution": {
     "iopub.execute_input": "2024-04-24T09:44:54.616639Z",
     "iopub.status.busy": "2024-04-24T09:44:54.616016Z",
     "iopub.status.idle": "2024-04-24T09:44:54.631482Z",
     "shell.execute_reply": "2024-04-24T09:44:54.630381Z"
    },
    "papermill": {
     "duration": 0.033389,
     "end_time": "2024-04-24T09:44:54.633830",
     "exception": false,
     "start_time": "2024-04-24T09:44:54.600441",
     "status": "completed"
    },
    "tags": []
   },
   "outputs": [],
   "source": [
    "#StandardScaler are compatible with pandas, but such transformations switches from pandas to ndarray\n",
    "scaled_inputs = abs_scaler.transform(unscaled_inputs)"
   ]
  },
  {
   "cell_type": "code",
   "execution_count": 23,
   "id": "490ba763",
   "metadata": {
    "execution": {
     "iopub.execute_input": "2024-04-24T09:44:54.664719Z",
     "iopub.status.busy": "2024-04-24T09:44:54.664326Z",
     "iopub.status.idle": "2024-04-24T09:44:54.682096Z",
     "shell.execute_reply": "2024-04-24T09:44:54.680962Z"
    },
    "papermill": {
     "duration": 0.035398,
     "end_time": "2024-04-24T09:44:54.684090",
     "exception": false,
     "start_time": "2024-04-24T09:44:54.648692",
     "status": "completed"
    },
    "tags": []
   },
   "outputs": [
    {
     "data": {
      "text/html": [
       "<div>\n",
       "<style scoped>\n",
       "    .dataframe tbody tr th:only-of-type {\n",
       "        vertical-align: middle;\n",
       "    }\n",
       "\n",
       "    .dataframe tbody tr th {\n",
       "        vertical-align: top;\n",
       "    }\n",
       "\n",
       "    .dataframe thead th {\n",
       "        text-align: right;\n",
       "    }\n",
       "</style>\n",
       "<table border=\"1\" class=\"dataframe\">\n",
       "  <thead>\n",
       "    <tr style=\"text-align: right;\">\n",
       "      <th></th>\n",
       "      <th>Reason_1</th>\n",
       "      <th>Reason_2</th>\n",
       "      <th>Reason_3</th>\n",
       "      <th>Reason_4</th>\n",
       "      <th>Month</th>\n",
       "      <th>Transportation Expense</th>\n",
       "      <th>Age</th>\n",
       "      <th>Body Mass Index</th>\n",
       "      <th>Education</th>\n",
       "      <th>Children</th>\n",
       "      <th>Pets</th>\n",
       "    </tr>\n",
       "  </thead>\n",
       "  <tbody>\n",
       "    <tr>\n",
       "      <th>0</th>\n",
       "      <td>False</td>\n",
       "      <td>False</td>\n",
       "      <td>False</td>\n",
       "      <td>True</td>\n",
       "      <td>0.182726</td>\n",
       "      <td>1.005844</td>\n",
       "      <td>-0.536062</td>\n",
       "      <td>0.767431</td>\n",
       "      <td>0</td>\n",
       "      <td>0.880469</td>\n",
       "      <td>0.268487</td>\n",
       "    </tr>\n",
       "    <tr>\n",
       "      <th>1</th>\n",
       "      <td>False</td>\n",
       "      <td>False</td>\n",
       "      <td>False</td>\n",
       "      <td>False</td>\n",
       "      <td>0.182726</td>\n",
       "      <td>-1.574681</td>\n",
       "      <td>2.130803</td>\n",
       "      <td>1.002633</td>\n",
       "      <td>0</td>\n",
       "      <td>-0.019280</td>\n",
       "      <td>-0.589690</td>\n",
       "    </tr>\n",
       "    <tr>\n",
       "      <th>2</th>\n",
       "      <td>False</td>\n",
       "      <td>False</td>\n",
       "      <td>False</td>\n",
       "      <td>True</td>\n",
       "      <td>0.182726</td>\n",
       "      <td>-0.654143</td>\n",
       "      <td>0.248310</td>\n",
       "      <td>1.002633</td>\n",
       "      <td>0</td>\n",
       "      <td>-0.919030</td>\n",
       "      <td>-0.589690</td>\n",
       "    </tr>\n",
       "    <tr>\n",
       "      <th>3</th>\n",
       "      <td>True</td>\n",
       "      <td>False</td>\n",
       "      <td>False</td>\n",
       "      <td>False</td>\n",
       "      <td>0.182726</td>\n",
       "      <td>0.854936</td>\n",
       "      <td>0.405184</td>\n",
       "      <td>-0.643782</td>\n",
       "      <td>0</td>\n",
       "      <td>0.880469</td>\n",
       "      <td>-0.589690</td>\n",
       "    </tr>\n",
       "    <tr>\n",
       "      <th>4</th>\n",
       "      <td>False</td>\n",
       "      <td>False</td>\n",
       "      <td>False</td>\n",
       "      <td>True</td>\n",
       "      <td>0.182726</td>\n",
       "      <td>1.005844</td>\n",
       "      <td>-0.536062</td>\n",
       "      <td>0.767431</td>\n",
       "      <td>0</td>\n",
       "      <td>0.880469</td>\n",
       "      <td>0.268487</td>\n",
       "    </tr>\n",
       "    <tr>\n",
       "      <th>...</th>\n",
       "      <td>...</td>\n",
       "      <td>...</td>\n",
       "      <td>...</td>\n",
       "      <td>...</td>\n",
       "      <td>...</td>\n",
       "      <td>...</td>\n",
       "      <td>...</td>\n",
       "      <td>...</td>\n",
       "      <td>...</td>\n",
       "      <td>...</td>\n",
       "      <td>...</td>\n",
       "    </tr>\n",
       "    <tr>\n",
       "      <th>695</th>\n",
       "      <td>True</td>\n",
       "      <td>False</td>\n",
       "      <td>False</td>\n",
       "      <td>False</td>\n",
       "      <td>-0.388293</td>\n",
       "      <td>-0.654143</td>\n",
       "      <td>0.562059</td>\n",
       "      <td>-1.114186</td>\n",
       "      <td>1</td>\n",
       "      <td>0.880469</td>\n",
       "      <td>-0.589690</td>\n",
       "    </tr>\n",
       "    <tr>\n",
       "      <th>696</th>\n",
       "      <td>True</td>\n",
       "      <td>False</td>\n",
       "      <td>False</td>\n",
       "      <td>False</td>\n",
       "      <td>-0.388293</td>\n",
       "      <td>0.040034</td>\n",
       "      <td>-1.320435</td>\n",
       "      <td>-0.643782</td>\n",
       "      <td>0</td>\n",
       "      <td>-0.019280</td>\n",
       "      <td>1.126663</td>\n",
       "    </tr>\n",
       "    <tr>\n",
       "      <th>697</th>\n",
       "      <td>True</td>\n",
       "      <td>False</td>\n",
       "      <td>False</td>\n",
       "      <td>False</td>\n",
       "      <td>-0.388293</td>\n",
       "      <td>1.624567</td>\n",
       "      <td>-1.320435</td>\n",
       "      <td>-0.408580</td>\n",
       "      <td>1</td>\n",
       "      <td>-0.919030</td>\n",
       "      <td>-0.589690</td>\n",
       "    </tr>\n",
       "    <tr>\n",
       "      <th>698</th>\n",
       "      <td>False</td>\n",
       "      <td>False</td>\n",
       "      <td>False</td>\n",
       "      <td>True</td>\n",
       "      <td>-0.388293</td>\n",
       "      <td>0.190942</td>\n",
       "      <td>-0.692937</td>\n",
       "      <td>-0.408580</td>\n",
       "      <td>1</td>\n",
       "      <td>-0.919030</td>\n",
       "      <td>-0.589690</td>\n",
       "    </tr>\n",
       "    <tr>\n",
       "      <th>699</th>\n",
       "      <td>False</td>\n",
       "      <td>False</td>\n",
       "      <td>False</td>\n",
       "      <td>True</td>\n",
       "      <td>-0.388293</td>\n",
       "      <td>1.036026</td>\n",
       "      <td>0.562059</td>\n",
       "      <td>-0.408580</td>\n",
       "      <td>0</td>\n",
       "      <td>-0.019280</td>\n",
       "      <td>0.268487</td>\n",
       "    </tr>\n",
       "  </tbody>\n",
       "</table>\n",
       "<p>700 rows × 11 columns</p>\n",
       "</div>"
      ],
      "text/plain": [
       "     Reason_1  Reason_2  Reason_3  Reason_4     Month  Transportation Expense  \\\n",
       "0       False     False     False      True  0.182726                1.005844   \n",
       "1       False     False     False     False  0.182726               -1.574681   \n",
       "2       False     False     False      True  0.182726               -0.654143   \n",
       "3        True     False     False     False  0.182726                0.854936   \n",
       "4       False     False     False      True  0.182726                1.005844   \n",
       "..        ...       ...       ...       ...       ...                     ...   \n",
       "695      True     False     False     False -0.388293               -0.654143   \n",
       "696      True     False     False     False -0.388293                0.040034   \n",
       "697      True     False     False     False -0.388293                1.624567   \n",
       "698     False     False     False      True -0.388293                0.190942   \n",
       "699     False     False     False      True -0.388293                1.036026   \n",
       "\n",
       "          Age  Body Mass Index  Education  Children      Pets  \n",
       "0   -0.536062         0.767431          0  0.880469  0.268487  \n",
       "1    2.130803         1.002633          0 -0.019280 -0.589690  \n",
       "2    0.248310         1.002633          0 -0.919030 -0.589690  \n",
       "3    0.405184        -0.643782          0  0.880469 -0.589690  \n",
       "4   -0.536062         0.767431          0  0.880469  0.268487  \n",
       "..        ...              ...        ...       ...       ...  \n",
       "695  0.562059        -1.114186          1  0.880469 -0.589690  \n",
       "696 -1.320435        -0.643782          0 -0.019280  1.126663  \n",
       "697 -1.320435        -0.408580          1 -0.919030 -0.589690  \n",
       "698 -0.692937        -0.408580          1 -0.919030 -0.589690  \n",
       "699  0.562059        -0.408580          0 -0.019280  0.268487  \n",
       "\n",
       "[700 rows x 11 columns]"
      ]
     },
     "execution_count": 23,
     "metadata": {},
     "output_type": "execute_result"
    }
   ],
   "source": [
    "scaled_inputs"
   ]
  },
  {
   "cell_type": "code",
   "execution_count": 24,
   "id": "ab446f11",
   "metadata": {
    "execution": {
     "iopub.execute_input": "2024-04-24T09:44:54.717270Z",
     "iopub.status.busy": "2024-04-24T09:44:54.716245Z",
     "iopub.status.idle": "2024-04-24T09:44:54.828679Z",
     "shell.execute_reply": "2024-04-24T09:44:54.827449Z"
    },
    "papermill": {
     "duration": 0.131881,
     "end_time": "2024-04-24T09:44:54.831346",
     "exception": false,
     "start_time": "2024-04-24T09:44:54.699465",
     "status": "completed"
    },
    "tags": []
   },
   "outputs": [],
   "source": [
    "#splitting and shuffling the data:\n",
    "from sklearn.model_selection import train_test_split"
   ]
  },
  {
   "cell_type": "code",
   "execution_count": 25,
   "id": "20bc6eb8",
   "metadata": {
    "execution": {
     "iopub.execute_input": "2024-04-24T09:44:54.864184Z",
     "iopub.status.busy": "2024-04-24T09:44:54.863790Z",
     "iopub.status.idle": "2024-04-24T09:44:54.885387Z",
     "shell.execute_reply": "2024-04-24T09:44:54.884313Z"
    },
    "papermill": {
     "duration": 0.040811,
     "end_time": "2024-04-24T09:44:54.887760",
     "exception": false,
     "start_time": "2024-04-24T09:44:54.846949",
     "status": "completed"
    },
    "tags": []
   },
   "outputs": [
    {
     "data": {
      "text/plain": [
       "[     Reason_1  Reason_2  Reason_3  Reason_4     Month  Transportation Expense  \\\n",
       " 303     False     False     False     False  1.039256                0.190942   \n",
       " 182      True     False     False     False -0.959313                0.387122   \n",
       " 174     False     False     False      True -0.959313                0.040034   \n",
       " 249     False     False      True     False  0.182726                1.005844   \n",
       " 685     False     False     False      True -0.388293               -1.574681   \n",
       " ..        ...       ...       ...       ...       ...                     ...   \n",
       " 537     False     False     False      True  1.324766                1.005844   \n",
       " 298     False     False     False      True  1.039256               -0.654143   \n",
       " 483     False     False     False      True  0.468236               -1.574681   \n",
       " 95      False     False     False      True  1.324766                0.040034   \n",
       " 584     False     False     False      True -1.530333               -0.654143   \n",
       " \n",
       "           Age  Body Mass Index  Education  Children      Pets  \n",
       " 303  1.032682         2.649049          0 -0.019280 -0.589690  \n",
       " 182  1.660180         1.237836          0  0.880469  0.268487  \n",
       " 174 -1.320435        -0.643782          0 -0.019280  1.126663  \n",
       " 249 -0.536062         0.767431          0  0.880469  0.268487  \n",
       " 685  2.130803         1.002633          0 -0.019280 -0.589690  \n",
       " ..        ...              ...        ...       ...       ...  \n",
       " 537 -0.536062         0.767431          0  0.880469  0.268487  \n",
       " 298  0.248310         1.002633          0 -0.919030 -0.589690  \n",
       " 483  0.091435         0.297027          0 -0.919030 -0.589690  \n",
       " 95  -1.320435        -0.643782          0 -0.019280  1.126663  \n",
       " 584  0.248310         1.002633          0 -0.919030 -0.589690  \n",
       " \n",
       " [525 rows x 11 columns],\n",
       "      Reason_1  Reason_2  Reason_3  Reason_4     Month  Transportation Expense  \\\n",
       " 285     False     False     False     False  0.753746                0.190942   \n",
       " 485     False     False     False      True  0.468236                0.190942   \n",
       " 666     False     False     False      True -0.673803               -0.654143   \n",
       " 220     False     False      True     False -0.102784                0.356940   \n",
       " 248     False     False     False      True  0.182726               -0.654143   \n",
       " ..        ...       ...       ...       ...       ...                     ...   \n",
       " 505     False     False     False      True  0.753746                2.213108   \n",
       " 329     False     False     False      True  1.324766               -0.654143   \n",
       " 458      True     False     False     False -0.102784                1.624567   \n",
       " 673     False     False     False      True -0.673803               -0.654143   \n",
       " 436      True     False     False     False -0.388293                1.624567   \n",
       " \n",
       "           Age  Body Mass Index  Education  Children     Pets  \n",
       " 285  1.032682         2.649049          0 -0.019280 -0.58969  \n",
       " 485  1.032682         2.649049          0 -0.019280 -0.58969  \n",
       " 666 -1.006686        -1.819793          1 -0.919030 -0.58969  \n",
       " 220  0.718933        -0.878984          0 -0.919030 -0.58969  \n",
       " 248  0.248310         1.002633          0 -0.919030 -0.58969  \n",
       " ..        ...              ...        ...       ...      ...  \n",
       " 505 -0.849811        -0.408580          0  1.780219 -0.58969  \n",
       " 329  0.248310         1.002633          0 -0.919030 -0.58969  \n",
       " 458 -1.320435        -0.408580          1 -0.919030 -0.58969  \n",
       " 673 -1.006686        -1.819793          1 -0.919030 -0.58969  \n",
       " 436 -1.320435        -0.408580          1 -0.919030 -0.58969  \n",
       " \n",
       " [175 rows x 11 columns],\n",
       " array([0, 0, 0, 1, 0, 0, 1, 0, 1, 0, 0, 0, 0, 0, 1, 1, 1, 0, 1, 0, 0, 1,\n",
       "        1, 1, 1, 1, 1, 1, 0, 1, 1, 0, 0, 1, 0, 1, 1, 1, 0, 0, 1, 0, 1, 0,\n",
       "        0, 1, 1, 0, 1, 0, 1, 0, 0, 0, 1, 0, 1, 0, 0, 1, 1, 0, 0, 0, 1, 1,\n",
       "        0, 0, 0, 1, 0, 0, 0, 0, 0, 0, 1, 0, 1, 1, 1, 0, 0, 1, 0, 0, 0, 1,\n",
       "        0, 0, 0, 0, 0, 0, 1, 0, 1, 0, 0, 1, 0, 1, 0, 0, 0, 0, 0, 1, 1, 0,\n",
       "        0, 0, 1, 1, 1, 1, 1, 0, 0, 1, 1, 0, 0, 1, 1, 0, 0, 0, 1, 0, 0, 1,\n",
       "        1, 1, 0, 1, 1, 0, 1, 0, 1, 0, 0, 0, 0, 0, 0, 0, 1, 1, 0, 1, 1, 1,\n",
       "        0, 1, 0, 0, 1, 1, 1, 0, 1, 0, 1, 0, 0, 1, 0, 0, 1, 0, 1, 0, 0, 0,\n",
       "        0, 0, 1, 0, 1, 0, 0, 1, 0, 0, 1, 1, 1, 0, 1, 0, 0, 0, 1, 0, 1, 0,\n",
       "        1, 1, 0, 0, 0, 0, 1, 0, 1, 0, 0, 0, 0, 0, 1, 1, 1, 0, 0, 1, 1, 0,\n",
       "        1, 0, 0, 0, 0, 1, 0, 0, 0, 0, 1, 0, 0, 1, 1, 1, 0, 1, 1, 1, 1, 1,\n",
       "        1, 0, 0, 0, 0, 1, 1, 0, 1, 0, 1, 0, 0, 0, 1, 1, 0, 0, 0, 1, 1, 0,\n",
       "        1, 1, 0, 1, 0, 0, 0, 1, 1, 1, 1, 0, 1, 0, 1, 0, 1, 0, 0, 0, 1, 0,\n",
       "        0, 1, 0, 0, 1, 1, 1, 1, 1, 0, 0, 0, 1, 0, 1, 0, 1, 0, 0, 1, 1, 0,\n",
       "        0, 0, 1, 0, 1, 1, 0, 0, 0, 1, 0, 0, 1, 0, 1, 1, 0, 1, 0, 0, 1, 0,\n",
       "        0, 0, 1, 1, 0, 0, 0, 1, 1, 0, 0, 0, 0, 0, 1, 0, 0, 0, 0, 1, 0, 1,\n",
       "        1, 1, 1, 0, 1, 1, 1, 1, 1, 1, 0, 0, 1, 1, 0, 1, 0, 0, 0, 0, 0, 1,\n",
       "        0, 1, 0, 0, 0, 1, 0, 0, 1, 1, 0, 0, 0, 0, 1, 0, 1, 1, 1, 0, 0, 0,\n",
       "        1, 0, 1, 1, 0, 0, 1, 0, 0, 1, 0, 0, 0, 1, 0, 0, 1, 1, 1, 0, 1, 1,\n",
       "        0, 1, 0, 1, 0, 0, 0, 0, 0, 0, 0, 1, 0, 0, 1, 0, 0, 0, 1, 1, 0, 0,\n",
       "        1, 0, 0, 1, 0, 1, 1, 0, 1, 0, 0, 0, 1, 0, 0, 1, 0, 1, 0, 0, 1, 1,\n",
       "        0, 1, 0, 0, 0, 1, 0, 0, 0, 0, 1, 1, 1, 0, 1, 1, 0, 1, 1, 0, 0, 1,\n",
       "        1, 1, 1, 1, 1, 0, 0, 1, 1, 0, 0, 0, 1, 1, 0, 1, 0, 1, 0, 1, 0, 0,\n",
       "        1, 0, 0, 0, 1, 1, 0, 1, 1, 0, 1, 0, 0, 0, 1, 0, 1, 0, 0]),\n",
       " array([0, 1, 0, 1, 1, 1, 0, 0, 0, 0, 1, 1, 1, 1, 0, 0, 1, 1, 1, 1, 0, 0,\n",
       "        0, 1, 1, 1, 0, 1, 0, 1, 0, 0, 0, 0, 1, 1, 0, 1, 1, 1, 0, 1, 0, 0,\n",
       "        0, 0, 0, 1, 1, 1, 0, 1, 0, 0, 0, 0, 0, 0, 1, 1, 1, 1, 0, 0, 1, 1,\n",
       "        0, 0, 0, 0, 1, 1, 0, 1, 1, 1, 0, 0, 0, 1, 0, 1, 0, 1, 1, 1, 0, 1,\n",
       "        0, 0, 0, 0, 1, 1, 0, 1, 1, 1, 0, 0, 1, 0, 0, 0, 1, 1, 0, 0, 0, 1,\n",
       "        0, 0, 0, 1, 1, 1, 1, 1, 0, 0, 0, 0, 0, 0, 1, 1, 1, 0, 1, 1, 1, 1,\n",
       "        0, 1, 1, 1, 1, 1, 1, 0, 1, 1, 1, 0, 0, 1, 0, 0, 1, 0, 1, 1, 1, 1,\n",
       "        1, 0, 1, 1, 0, 0, 1, 0, 1, 0, 1, 0, 0, 0, 1, 0, 1, 0, 0, 0, 1])]"
      ]
     },
     "execution_count": 25,
     "metadata": {},
     "output_type": "execute_result"
    }
   ],
   "source": [
    "#targets: excessive absenteeism\n",
    "#inputs: the rest  \n",
    "train_test_split(scaled_inputs, targets)"
   ]
  },
  {
   "cell_type": "code",
   "execution_count": 26,
   "id": "7884d5b2",
   "metadata": {
    "execution": {
     "iopub.execute_input": "2024-04-24T09:44:54.920195Z",
     "iopub.status.busy": "2024-04-24T09:44:54.919598Z",
     "iopub.status.idle": "2024-04-24T09:44:54.925992Z",
     "shell.execute_reply": "2024-04-24T09:44:54.925191Z"
    },
    "papermill": {
     "duration": 0.024954,
     "end_time": "2024-04-24T09:44:54.928036",
     "exception": false,
     "start_time": "2024-04-24T09:44:54.903082",
     "status": "completed"
    },
    "tags": []
   },
   "outputs": [],
   "source": [
    "x_train, x_test, y_train, y_test = train_test_split(scaled_inputs, targets, train_size =0.8,random_state=1)"
   ]
  },
  {
   "cell_type": "markdown",
   "id": "f7c1e5a5",
   "metadata": {
    "papermill": {
     "duration": 0.014634,
     "end_time": "2024-04-24T09:44:54.957584",
     "exception": false,
     "start_time": "2024-04-24T09:44:54.942950",
     "status": "completed"
    },
    "tags": []
   },
   "source": []
  },
  {
   "cell_type": "code",
   "execution_count": 27,
   "id": "33c99759",
   "metadata": {
    "execution": {
     "iopub.execute_input": "2024-04-24T09:44:54.989744Z",
     "iopub.status.busy": "2024-04-24T09:44:54.989104Z",
     "iopub.status.idle": "2024-04-24T09:44:54.995679Z",
     "shell.execute_reply": "2024-04-24T09:44:54.994174Z"
    },
    "papermill": {
     "duration": 0.024762,
     "end_time": "2024-04-24T09:44:54.997658",
     "exception": false,
     "start_time": "2024-04-24T09:44:54.972896",
     "status": "completed"
    },
    "tags": []
   },
   "outputs": [
    {
     "name": "stdout",
     "output_type": "stream",
     "text": [
      "(560, 11) (140, 11)\n"
     ]
    }
   ],
   "source": [
    "print(x_train.shape,x_test.shape)"
   ]
  },
  {
   "cell_type": "code",
   "execution_count": 28,
   "id": "f75ed4d3",
   "metadata": {
    "execution": {
     "iopub.execute_input": "2024-04-24T09:44:55.030684Z",
     "iopub.status.busy": "2024-04-24T09:44:55.030046Z",
     "iopub.status.idle": "2024-04-24T09:44:55.135748Z",
     "shell.execute_reply": "2024-04-24T09:44:55.134422Z"
    },
    "papermill": {
     "duration": 0.125317,
     "end_time": "2024-04-24T09:44:55.138361",
     "exception": false,
     "start_time": "2024-04-24T09:44:55.013044",
     "status": "completed"
    },
    "tags": []
   },
   "outputs": [],
   "source": [
    "#Model training and its evaluation\n",
    "from sklearn.linear_model import LogisticRegression\n",
    "from sklearn import metrics"
   ]
  },
  {
   "cell_type": "code",
   "execution_count": 29,
   "id": "30dea2fc",
   "metadata": {
    "execution": {
     "iopub.execute_input": "2024-04-24T09:44:55.172389Z",
     "iopub.status.busy": "2024-04-24T09:44:55.171954Z",
     "iopub.status.idle": "2024-04-24T09:44:55.176552Z",
     "shell.execute_reply": "2024-04-24T09:44:55.175508Z"
    },
    "papermill": {
     "duration": 0.023489,
     "end_time": "2024-04-24T09:44:55.178911",
     "exception": false,
     "start_time": "2024-04-24T09:44:55.155422",
     "status": "completed"
    },
    "tags": []
   },
   "outputs": [],
   "source": [
    "reg = LogisticRegression()"
   ]
  },
  {
   "cell_type": "code",
   "execution_count": 30,
   "id": "d6c42f83",
   "metadata": {
    "execution": {
     "iopub.execute_input": "2024-04-24T09:44:55.211900Z",
     "iopub.status.busy": "2024-04-24T09:44:55.210578Z",
     "iopub.status.idle": "2024-04-24T09:44:55.234407Z",
     "shell.execute_reply": "2024-04-24T09:44:55.233295Z"
    },
    "papermill": {
     "duration": 0.04241,
     "end_time": "2024-04-24T09:44:55.236582",
     "exception": false,
     "start_time": "2024-04-24T09:44:55.194172",
     "status": "completed"
    },
    "tags": []
   },
   "outputs": [
    {
     "data": {
      "text/html": [
       "<style>#sk-container-id-2 {color: black;background-color: white;}#sk-container-id-2 pre{padding: 0;}#sk-container-id-2 div.sk-toggleable {background-color: white;}#sk-container-id-2 label.sk-toggleable__label {cursor: pointer;display: block;width: 100%;margin-bottom: 0;padding: 0.3em;box-sizing: border-box;text-align: center;}#sk-container-id-2 label.sk-toggleable__label-arrow:before {content: \"▸\";float: left;margin-right: 0.25em;color: #696969;}#sk-container-id-2 label.sk-toggleable__label-arrow:hover:before {color: black;}#sk-container-id-2 div.sk-estimator:hover label.sk-toggleable__label-arrow:before {color: black;}#sk-container-id-2 div.sk-toggleable__content {max-height: 0;max-width: 0;overflow: hidden;text-align: left;background-color: #f0f8ff;}#sk-container-id-2 div.sk-toggleable__content pre {margin: 0.2em;color: black;border-radius: 0.25em;background-color: #f0f8ff;}#sk-container-id-2 input.sk-toggleable__control:checked~div.sk-toggleable__content {max-height: 200px;max-width: 100%;overflow: auto;}#sk-container-id-2 input.sk-toggleable__control:checked~label.sk-toggleable__label-arrow:before {content: \"▾\";}#sk-container-id-2 div.sk-estimator input.sk-toggleable__control:checked~label.sk-toggleable__label {background-color: #d4ebff;}#sk-container-id-2 div.sk-label input.sk-toggleable__control:checked~label.sk-toggleable__label {background-color: #d4ebff;}#sk-container-id-2 input.sk-hidden--visually {border: 0;clip: rect(1px 1px 1px 1px);clip: rect(1px, 1px, 1px, 1px);height: 1px;margin: -1px;overflow: hidden;padding: 0;position: absolute;width: 1px;}#sk-container-id-2 div.sk-estimator {font-family: monospace;background-color: #f0f8ff;border: 1px dotted black;border-radius: 0.25em;box-sizing: border-box;margin-bottom: 0.5em;}#sk-container-id-2 div.sk-estimator:hover {background-color: #d4ebff;}#sk-container-id-2 div.sk-parallel-item::after {content: \"\";width: 100%;border-bottom: 1px solid gray;flex-grow: 1;}#sk-container-id-2 div.sk-label:hover label.sk-toggleable__label {background-color: #d4ebff;}#sk-container-id-2 div.sk-serial::before {content: \"\";position: absolute;border-left: 1px solid gray;box-sizing: border-box;top: 0;bottom: 0;left: 50%;z-index: 0;}#sk-container-id-2 div.sk-serial {display: flex;flex-direction: column;align-items: center;background-color: white;padding-right: 0.2em;padding-left: 0.2em;position: relative;}#sk-container-id-2 div.sk-item {position: relative;z-index: 1;}#sk-container-id-2 div.sk-parallel {display: flex;align-items: stretch;justify-content: center;background-color: white;position: relative;}#sk-container-id-2 div.sk-item::before, #sk-container-id-2 div.sk-parallel-item::before {content: \"\";position: absolute;border-left: 1px solid gray;box-sizing: border-box;top: 0;bottom: 0;left: 50%;z-index: -1;}#sk-container-id-2 div.sk-parallel-item {display: flex;flex-direction: column;z-index: 1;position: relative;background-color: white;}#sk-container-id-2 div.sk-parallel-item:first-child::after {align-self: flex-end;width: 50%;}#sk-container-id-2 div.sk-parallel-item:last-child::after {align-self: flex-start;width: 50%;}#sk-container-id-2 div.sk-parallel-item:only-child::after {width: 0;}#sk-container-id-2 div.sk-dashed-wrapped {border: 1px dashed gray;margin: 0 0.4em 0.5em 0.4em;box-sizing: border-box;padding-bottom: 0.4em;background-color: white;}#sk-container-id-2 div.sk-label label {font-family: monospace;font-weight: bold;display: inline-block;line-height: 1.2em;}#sk-container-id-2 div.sk-label-container {text-align: center;}#sk-container-id-2 div.sk-container {/* jupyter's `normalize.less` sets `[hidden] { display: none; }` but bootstrap.min.css set `[hidden] { display: none !important; }` so we also need the `!important` here to be able to override the default hidden behavior on the sphinx rendered scikit-learn.org. See: https://github.com/scikit-learn/scikit-learn/issues/21755 */display: inline-block !important;position: relative;}#sk-container-id-2 div.sk-text-repr-fallback {display: none;}</style><div id=\"sk-container-id-2\" class=\"sk-top-container\"><div class=\"sk-text-repr-fallback\"><pre>LogisticRegression()</pre><b>In a Jupyter environment, please rerun this cell to show the HTML representation or trust the notebook. <br />On GitHub, the HTML representation is unable to render, please try loading this page with nbviewer.org.</b></div><div class=\"sk-container\" hidden><div class=\"sk-item\"><div class=\"sk-estimator sk-toggleable\"><input class=\"sk-toggleable__control sk-hidden--visually\" id=\"sk-estimator-id-2\" type=\"checkbox\" checked><label for=\"sk-estimator-id-2\" class=\"sk-toggleable__label sk-toggleable__label-arrow\">LogisticRegression</label><div class=\"sk-toggleable__content\"><pre>LogisticRegression()</pre></div></div></div></div></div>"
      ],
      "text/plain": [
       "LogisticRegression()"
      ]
     },
     "execution_count": 30,
     "metadata": {},
     "output_type": "execute_result"
    }
   ],
   "source": [
    "reg.fit(x_train,y_train)"
   ]
  },
  {
   "cell_type": "code",
   "execution_count": 31,
   "id": "de2aab35",
   "metadata": {
    "execution": {
     "iopub.execute_input": "2024-04-24T09:44:55.270503Z",
     "iopub.status.busy": "2024-04-24T09:44:55.269768Z",
     "iopub.status.idle": "2024-04-24T09:44:55.280010Z",
     "shell.execute_reply": "2024-04-24T09:44:55.278813Z"
    },
    "papermill": {
     "duration": 0.03093,
     "end_time": "2024-04-24T09:44:55.282735",
     "exception": false,
     "start_time": "2024-04-24T09:44:55.251805",
     "status": "completed"
    },
    "tags": []
   },
   "outputs": [
    {
     "data": {
      "text/plain": [
       "0.7732142857142857"
      ]
     },
     "execution_count": 31,
     "metadata": {},
     "output_type": "execute_result"
    }
   ],
   "source": [
    "reg.score(x_train,y_train)"
   ]
  },
  {
   "cell_type": "code",
   "execution_count": 32,
   "id": "69483fef",
   "metadata": {
    "execution": {
     "iopub.execute_input": "2024-04-24T09:44:55.316687Z",
     "iopub.status.busy": "2024-04-24T09:44:55.316279Z",
     "iopub.status.idle": "2024-04-24T09:44:55.326652Z",
     "shell.execute_reply": "2024-04-24T09:44:55.325632Z"
    },
    "papermill": {
     "duration": 0.029816,
     "end_time": "2024-04-24T09:44:55.328815",
     "exception": false,
     "start_time": "2024-04-24T09:44:55.298999",
     "status": "completed"
    },
    "tags": []
   },
   "outputs": [
    {
     "data": {
      "text/plain": [
       "array([0, 1, 1, 1, 0, 1, 1, 0, 0, 0, 0, 1, 0, 0, 0, 0, 0, 0, 1, 1, 1, 0,\n",
       "       1, 1, 0, 1, 1, 0, 1, 0, 1, 1, 0, 0, 0, 0, 1, 0, 0, 0, 0, 0, 0, 1,\n",
       "       0, 0, 0, 0, 0, 1, 0, 0, 0, 0, 0, 0, 1, 0, 0, 0, 0, 1, 0, 0, 1, 1,\n",
       "       0, 1, 0, 1, 0, 0, 0, 1, 1, 0, 0, 1, 1, 0, 0, 1, 0, 0, 0, 1, 0, 1,\n",
       "       1, 0, 0, 0, 1, 1, 0, 0, 0, 1, 0, 0, 0, 0, 0, 0, 1, 0, 1, 0, 1, 0,\n",
       "       0, 1, 0, 1, 0, 0, 1, 1, 1, 1, 1, 1, 1, 1, 0, 0, 1, 1, 0, 0, 0, 0,\n",
       "       0, 0, 0, 1, 0, 0, 0, 0, 0, 0, 0, 1, 1, 1, 0, 0, 1, 0, 1, 1, 0, 0,\n",
       "       1, 1, 0, 1, 1, 0, 0, 0, 0, 0, 0, 0, 0, 1, 0, 0, 0, 0, 0, 1, 0, 0,\n",
       "       1, 0, 1, 0, 1, 0, 0, 1, 0, 0, 0, 1, 0, 1, 1, 0, 1, 1, 1, 1, 1, 1,\n",
       "       1, 1, 0, 0, 1, 1, 1, 1, 1, 1, 0, 1, 0, 1, 1, 0, 0, 0, 1, 1, 1, 0,\n",
       "       0, 1, 1, 0, 0, 1, 1, 0, 0, 1, 0, 0, 1, 1, 1, 1, 0, 1, 1, 1, 0, 0,\n",
       "       1, 0, 0, 0, 0, 1, 1, 0, 1, 0, 0, 0, 0, 0, 1, 0, 0, 0, 0, 0, 0, 0,\n",
       "       1, 1, 0, 0, 0, 0, 0, 1, 1, 0, 1, 0, 1, 0, 1, 0, 1, 1, 0, 0, 1, 1,\n",
       "       0, 0, 1, 0, 0, 1, 1, 0, 0, 0, 1, 1, 1, 0, 0, 0, 1, 0, 0, 1, 0, 0,\n",
       "       0, 1, 0, 1, 1, 1, 0, 0, 0, 0, 1, 0, 0, 1, 0, 1, 1, 0, 0, 1, 0, 1,\n",
       "       1, 0, 0, 0, 1, 1, 1, 0, 0, 0, 1, 1, 0, 0, 0, 1, 0, 1, 0, 1, 1, 0,\n",
       "       0, 1, 1, 0, 0, 1, 1, 1, 0, 0, 0, 0, 0, 0, 0, 1, 1, 1, 0, 1, 0, 0,\n",
       "       1, 0, 0, 0, 1, 1, 1, 0, 0, 1, 1, 1, 1, 1, 1, 0, 0, 0, 1, 0, 0, 0,\n",
       "       1, 1, 0, 1, 0, 0, 1, 0, 0, 0, 1, 0, 1, 1, 1, 1, 0, 1, 0, 0, 1, 1,\n",
       "       0, 1, 0, 1, 0, 1, 0, 1, 0, 1, 0, 0, 1, 1, 1, 1, 0, 0, 1, 1, 1, 0,\n",
       "       0, 0, 0, 1, 0, 0, 1, 0, 0, 0, 0, 0, 0, 0, 1, 1, 1, 0, 1, 1, 0, 0,\n",
       "       1, 1, 1, 1, 1, 1, 0, 0, 0, 1, 0, 0, 0, 1, 0, 0, 1, 1, 1, 0, 0, 1,\n",
       "       1, 1, 0, 1, 1, 0, 1, 0, 0, 0, 1, 0, 1, 0, 1, 1, 0, 0, 0, 0, 1, 1,\n",
       "       1, 0, 0, 1, 0, 1, 0, 0, 0, 1, 0, 1, 0, 1, 1, 0, 1, 0, 1, 0, 1, 0,\n",
       "       0, 0, 1, 1, 1, 1, 0, 0, 0, 0, 0, 0, 1, 0, 0, 0, 1, 0, 1, 1, 0, 1,\n",
       "       0, 1, 1, 0, 1, 1, 0, 0, 0, 1])"
      ]
     },
     "execution_count": 32,
     "metadata": {},
     "output_type": "execute_result"
    }
   ],
   "source": [
    "#building score method manually[!!!!]\n",
    "model_outputs = reg.predict(x_train)\n",
    "model_outputs"
   ]
  },
  {
   "cell_type": "code",
   "execution_count": 33,
   "id": "f82c3d1e",
   "metadata": {
    "execution": {
     "iopub.execute_input": "2024-04-24T09:44:55.363003Z",
     "iopub.status.busy": "2024-04-24T09:44:55.362545Z",
     "iopub.status.idle": "2024-04-24T09:44:55.370075Z",
     "shell.execute_reply": "2024-04-24T09:44:55.369009Z"
    },
    "papermill": {
     "duration": 0.0279,
     "end_time": "2024-04-24T09:44:55.372272",
     "exception": false,
     "start_time": "2024-04-24T09:44:55.344372",
     "status": "completed"
    },
    "tags": []
   },
   "outputs": [
    {
     "data": {
      "text/plain": [
       "array([0, 1, 0, 1, 0, 1, 1, 0, 0, 1, 0, 1, 0, 0, 1, 0, 0, 0, 1, 0, 1, 0,\n",
       "       1, 1, 1, 1, 1, 0, 1, 0, 1, 1, 0, 0, 0, 0, 0, 0, 0, 1, 0, 0, 0, 1,\n",
       "       0, 0, 0, 0, 0, 1, 0, 0, 0, 1, 0, 0, 1, 0, 0, 0, 1, 0, 0, 1, 1, 1,\n",
       "       0, 0, 0, 1, 0, 0, 0, 1, 1, 0, 0, 1, 0, 1, 0, 1, 0, 1, 0, 0, 0, 0,\n",
       "       0, 1, 1, 1, 1, 1, 0, 0, 0, 1, 0, 0, 0, 1, 0, 0, 1, 0, 1, 1, 1, 0,\n",
       "       0, 0, 0, 0, 0, 0, 1, 0, 1, 1, 1, 0, 1, 1, 0, 0, 1, 0, 1, 0, 0, 0,\n",
       "       0, 0, 0, 1, 0, 0, 1, 1, 0, 1, 0, 1, 1, 1, 0, 0, 1, 0, 1, 0, 0, 0,\n",
       "       0, 0, 0, 0, 0, 0, 0, 1, 0, 0, 0, 0, 0, 1, 0, 0, 0, 0, 1, 0, 0, 1,\n",
       "       1, 0, 1, 1, 0, 1, 0, 1, 0, 0, 0, 1, 0, 0, 0, 0, 1, 1, 1, 1, 1, 1,\n",
       "       0, 1, 1, 0, 1, 1, 1, 1, 0, 1, 0, 1, 0, 1, 1, 0, 0, 1, 1, 1, 1, 0,\n",
       "       0, 1, 1, 1, 1, 0, 1, 1, 0, 1, 0, 0, 1, 1, 1, 1, 1, 1, 1, 1, 0, 0,\n",
       "       0, 1, 0, 1, 0, 1, 1, 0, 1, 0, 0, 0, 1, 1, 1, 1, 0, 0, 0, 0, 0, 0,\n",
       "       1, 1, 0, 0, 0, 0, 1, 1, 1, 0, 1, 0, 0, 0, 1, 0, 1, 0, 0, 0, 1, 1,\n",
       "       0, 1, 1, 0, 0, 1, 1, 0, 1, 0, 1, 1, 1, 0, 0, 0, 1, 0, 0, 1, 0, 0,\n",
       "       0, 1, 0, 0, 0, 1, 0, 0, 0, 0, 1, 0, 0, 0, 0, 0, 0, 0, 0, 1, 1, 1,\n",
       "       1, 0, 0, 0, 0, 1, 1, 1, 1, 0, 1, 0, 0, 0, 0, 1, 0, 0, 0, 1, 1, 0,\n",
       "       0, 1, 1, 0, 1, 0, 0, 1, 0, 1, 0, 1, 1, 0, 0, 1, 1, 0, 0, 1, 0, 0,\n",
       "       1, 0, 0, 0, 1, 0, 1, 0, 1, 1, 0, 1, 1, 1, 1, 0, 0, 0, 1, 0, 0, 0,\n",
       "       0, 1, 0, 1, 1, 0, 1, 0, 0, 0, 1, 1, 1, 0, 0, 1, 0, 1, 1, 0, 1, 1,\n",
       "       1, 1, 0, 1, 0, 1, 0, 1, 0, 1, 0, 1, 1, 1, 1, 1, 0, 0, 0, 0, 1, 0,\n",
       "       1, 0, 1, 1, 0, 0, 1, 0, 0, 0, 1, 1, 0, 0, 1, 1, 1, 0, 1, 1, 0, 0,\n",
       "       0, 0, 1, 1, 1, 0, 1, 0, 0, 1, 0, 1, 1, 0, 0, 0, 1, 0, 1, 0, 0, 1,\n",
       "       1, 1, 1, 1, 1, 0, 1, 0, 0, 0, 1, 0, 1, 0, 1, 1, 0, 1, 1, 0, 1, 1,\n",
       "       1, 0, 0, 0, 0, 1, 0, 0, 0, 1, 0, 1, 1, 0, 0, 0, 0, 0, 1, 0, 1, 0,\n",
       "       0, 0, 1, 1, 1, 1, 1, 1, 0, 0, 0, 0, 0, 1, 0, 1, 1, 1, 1, 0, 0, 1,\n",
       "       1, 1, 0, 0, 1, 1, 0, 1, 0, 1])"
      ]
     },
     "execution_count": 33,
     "metadata": {},
     "output_type": "execute_result"
    }
   ],
   "source": [
    "y_train"
   ]
  },
  {
   "cell_type": "code",
   "execution_count": 34,
   "id": "15174a77",
   "metadata": {
    "execution": {
     "iopub.execute_input": "2024-04-24T09:44:55.405254Z",
     "iopub.status.busy": "2024-04-24T09:44:55.404838Z",
     "iopub.status.idle": "2024-04-24T09:44:55.411608Z",
     "shell.execute_reply": "2024-04-24T09:44:55.410655Z"
    },
    "papermill": {
     "duration": 0.025808,
     "end_time": "2024-04-24T09:44:55.413805",
     "exception": false,
     "start_time": "2024-04-24T09:44:55.387997",
     "status": "completed"
    },
    "tags": []
   },
   "outputs": [
    {
     "data": {
      "text/plain": [
       "433"
      ]
     },
     "execution_count": 34,
     "metadata": {},
     "output_type": "execute_result"
    }
   ],
   "source": [
    "#comparison of model prediction with y_train\n",
    "np.sum(model_outputs == y_train)"
   ]
  },
  {
   "cell_type": "code",
   "execution_count": 35,
   "id": "9b7f0d3a",
   "metadata": {
    "execution": {
     "iopub.execute_input": "2024-04-24T09:44:55.448010Z",
     "iopub.status.busy": "2024-04-24T09:44:55.447612Z",
     "iopub.status.idle": "2024-04-24T09:44:55.453262Z",
     "shell.execute_reply": "2024-04-24T09:44:55.452457Z"
    },
    "papermill": {
     "duration": 0.024598,
     "end_time": "2024-04-24T09:44:55.455145",
     "exception": false,
     "start_time": "2024-04-24T09:44:55.430547",
     "status": "completed"
    },
    "tags": []
   },
   "outputs": [
    {
     "data": {
      "text/plain": [
       "(560,)"
      ]
     },
     "execution_count": 35,
     "metadata": {},
     "output_type": "execute_result"
    }
   ],
   "source": [
    "model_outputs.shape"
   ]
  },
  {
   "cell_type": "code",
   "execution_count": 36,
   "id": "b71aec45",
   "metadata": {
    "execution": {
     "iopub.execute_input": "2024-04-24T09:44:55.488919Z",
     "iopub.status.busy": "2024-04-24T09:44:55.488479Z",
     "iopub.status.idle": "2024-04-24T09:44:55.494758Z",
     "shell.execute_reply": "2024-04-24T09:44:55.493878Z"
    },
    "papermill": {
     "duration": 0.02564,
     "end_time": "2024-04-24T09:44:55.496767",
     "exception": false,
     "start_time": "2024-04-24T09:44:55.471127",
     "status": "completed"
    },
    "tags": []
   },
   "outputs": [
    {
     "data": {
      "text/plain": [
       "0.7732142857142857"
      ]
     },
     "execution_count": 36,
     "metadata": {},
     "output_type": "execute_result"
    }
   ],
   "source": [
    "score = np.sum(model_outputs == y_train)/model_outputs.shape[0]\n",
    "score"
   ]
  },
  {
   "cell_type": "code",
   "execution_count": 37,
   "id": "2aea77c0",
   "metadata": {
    "execution": {
     "iopub.execute_input": "2024-04-24T09:44:55.530687Z",
     "iopub.status.busy": "2024-04-24T09:44:55.530302Z",
     "iopub.status.idle": "2024-04-24T09:44:55.534417Z",
     "shell.execute_reply": "2024-04-24T09:44:55.533055Z"
    },
    "papermill": {
     "duration": 0.023663,
     "end_time": "2024-04-24T09:44:55.536417",
     "exception": false,
     "start_time": "2024-04-24T09:44:55.512754",
     "status": "completed"
    },
    "tags": []
   },
   "outputs": [],
   "source": [
    "#estimating the intercept and the coefficients \n",
    "#log(odds) = b0 +b1x1+b2x2 etc... b0:intercept, bn: coefficients\n"
   ]
  },
  {
   "cell_type": "code",
   "execution_count": 38,
   "id": "52dc6a5c",
   "metadata": {
    "execution": {
     "iopub.execute_input": "2024-04-24T09:44:55.570886Z",
     "iopub.status.busy": "2024-04-24T09:44:55.570525Z",
     "iopub.status.idle": "2024-04-24T09:44:55.576280Z",
     "shell.execute_reply": "2024-04-24T09:44:55.575449Z"
    },
    "papermill": {
     "duration": 0.024986,
     "end_time": "2024-04-24T09:44:55.578111",
     "exception": false,
     "start_time": "2024-04-24T09:44:55.553125",
     "status": "completed"
    },
    "tags": []
   },
   "outputs": [
    {
     "data": {
      "text/plain": [
       "array([-1.69437685])"
      ]
     },
     "execution_count": 38,
     "metadata": {},
     "output_type": "execute_result"
    }
   ],
   "source": [
    "#getting intercept\n",
    "reg.intercept_"
   ]
  },
  {
   "cell_type": "code",
   "execution_count": 39,
   "id": "8078b271",
   "metadata": {
    "execution": {
     "iopub.execute_input": "2024-04-24T09:44:55.612263Z",
     "iopub.status.busy": "2024-04-24T09:44:55.611850Z",
     "iopub.status.idle": "2024-04-24T09:44:55.617609Z",
     "shell.execute_reply": "2024-04-24T09:44:55.616838Z"
    },
    "papermill": {
     "duration": 0.025124,
     "end_time": "2024-04-24T09:44:55.619480",
     "exception": false,
     "start_time": "2024-04-24T09:44:55.594356",
     "status": "completed"
    },
    "tags": []
   },
   "outputs": [
    {
     "data": {
      "text/plain": [
       "array([[ 2.80404409,  0.99656162,  3.10189616,  0.84644083,  0.10652555,\n",
       "         0.57203993, -0.25110668,  0.28498896, -0.04585548,  0.46513821,\n",
       "        -0.292372  ]])"
      ]
     },
     "execution_count": 39,
     "metadata": {},
     "output_type": "execute_result"
    }
   ],
   "source": [
    "#getting coeffs\n",
    "reg.coef_"
   ]
  },
  {
   "cell_type": "code",
   "execution_count": 40,
   "id": "2d6699d2",
   "metadata": {
    "execution": {
     "iopub.execute_input": "2024-04-24T09:44:55.655398Z",
     "iopub.status.busy": "2024-04-24T09:44:55.654649Z",
     "iopub.status.idle": "2024-04-24T09:44:55.658948Z",
     "shell.execute_reply": "2024-04-24T09:44:55.658100Z"
    },
    "papermill": {
     "duration": 0.024518,
     "end_time": "2024-04-24T09:44:55.661016",
     "exception": false,
     "start_time": "2024-04-24T09:44:55.636498",
     "status": "completed"
    },
    "tags": []
   },
   "outputs": [],
   "source": [
    "feature_names = unscaled_inputs.columns.values"
   ]
  },
  {
   "cell_type": "code",
   "execution_count": 41,
   "id": "8c38c245",
   "metadata": {
    "execution": {
     "iopub.execute_input": "2024-04-24T09:44:55.695001Z",
     "iopub.status.busy": "2024-04-24T09:44:55.694596Z",
     "iopub.status.idle": "2024-04-24T09:44:55.706810Z",
     "shell.execute_reply": "2024-04-24T09:44:55.705672Z"
    },
    "papermill": {
     "duration": 0.031678,
     "end_time": "2024-04-24T09:44:55.709029",
     "exception": false,
     "start_time": "2024-04-24T09:44:55.677351",
     "status": "completed"
    },
    "tags": []
   },
   "outputs": [
    {
     "data": {
      "text/html": [
       "<div>\n",
       "<style scoped>\n",
       "    .dataframe tbody tr th:only-of-type {\n",
       "        vertical-align: middle;\n",
       "    }\n",
       "\n",
       "    .dataframe tbody tr th {\n",
       "        vertical-align: top;\n",
       "    }\n",
       "\n",
       "    .dataframe thead th {\n",
       "        text-align: right;\n",
       "    }\n",
       "</style>\n",
       "<table border=\"1\" class=\"dataframe\">\n",
       "  <thead>\n",
       "    <tr style=\"text-align: right;\">\n",
       "      <th></th>\n",
       "      <th>Feature_name</th>\n",
       "      <th>Coefficient</th>\n",
       "    </tr>\n",
       "  </thead>\n",
       "  <tbody>\n",
       "    <tr>\n",
       "      <th>0</th>\n",
       "      <td>Reason_1</td>\n",
       "      <td>2.804044</td>\n",
       "    </tr>\n",
       "    <tr>\n",
       "      <th>1</th>\n",
       "      <td>Reason_2</td>\n",
       "      <td>0.996562</td>\n",
       "    </tr>\n",
       "    <tr>\n",
       "      <th>2</th>\n",
       "      <td>Reason_3</td>\n",
       "      <td>3.101896</td>\n",
       "    </tr>\n",
       "    <tr>\n",
       "      <th>3</th>\n",
       "      <td>Reason_4</td>\n",
       "      <td>0.846441</td>\n",
       "    </tr>\n",
       "    <tr>\n",
       "      <th>4</th>\n",
       "      <td>Month</td>\n",
       "      <td>0.106526</td>\n",
       "    </tr>\n",
       "    <tr>\n",
       "      <th>5</th>\n",
       "      <td>Transportation Expense</td>\n",
       "      <td>0.572040</td>\n",
       "    </tr>\n",
       "    <tr>\n",
       "      <th>6</th>\n",
       "      <td>Age</td>\n",
       "      <td>-0.251107</td>\n",
       "    </tr>\n",
       "    <tr>\n",
       "      <th>7</th>\n",
       "      <td>Body Mass Index</td>\n",
       "      <td>0.284989</td>\n",
       "    </tr>\n",
       "    <tr>\n",
       "      <th>8</th>\n",
       "      <td>Education</td>\n",
       "      <td>-0.045855</td>\n",
       "    </tr>\n",
       "    <tr>\n",
       "      <th>9</th>\n",
       "      <td>Children</td>\n",
       "      <td>0.465138</td>\n",
       "    </tr>\n",
       "    <tr>\n",
       "      <th>10</th>\n",
       "      <td>Pets</td>\n",
       "      <td>-0.292372</td>\n",
       "    </tr>\n",
       "  </tbody>\n",
       "</table>\n",
       "</div>"
      ],
      "text/plain": [
       "              Feature_name  Coefficient\n",
       "0                 Reason_1     2.804044\n",
       "1                 Reason_2     0.996562\n",
       "2                 Reason_3     3.101896\n",
       "3                 Reason_4     0.846441\n",
       "4                    Month     0.106526\n",
       "5   Transportation Expense     0.572040\n",
       "6                      Age    -0.251107\n",
       "7          Body Mass Index     0.284989\n",
       "8                Education    -0.045855\n",
       "9                 Children     0.465138\n",
       "10                    Pets    -0.292372"
      ]
     },
     "execution_count": 41,
     "metadata": {},
     "output_type": "execute_result"
    }
   ],
   "source": [
    "summary_tab = pd.DataFrame (columns=['Feature_name'],data=feature_names)\n",
    "summary_tab['Coefficient'] = np.transpose(reg.coef_)\n",
    "summary_tab"
   ]
  },
  {
   "cell_type": "code",
   "execution_count": 42,
   "id": "a415cd5c",
   "metadata": {
    "execution": {
     "iopub.execute_input": "2024-04-24T09:44:55.744976Z",
     "iopub.status.busy": "2024-04-24T09:44:55.744598Z",
     "iopub.status.idle": "2024-04-24T09:44:55.750111Z",
     "shell.execute_reply": "2024-04-24T09:44:55.748873Z"
    },
    "papermill": {
     "duration": 0.025751,
     "end_time": "2024-04-24T09:44:55.752322",
     "exception": false,
     "start_time": "2024-04-24T09:44:55.726571",
     "status": "completed"
    },
    "tags": []
   },
   "outputs": [],
   "source": [
    "summary_tab.index = summary_tab.index + 1 "
   ]
  },
  {
   "cell_type": "code",
   "execution_count": 43,
   "id": "057f464a",
   "metadata": {
    "execution": {
     "iopub.execute_input": "2024-04-24T09:44:55.795432Z",
     "iopub.status.busy": "2024-04-24T09:44:55.794557Z",
     "iopub.status.idle": "2024-04-24T09:44:55.814480Z",
     "shell.execute_reply": "2024-04-24T09:44:55.810352Z"
    },
    "papermill": {
     "duration": 0.049153,
     "end_time": "2024-04-24T09:44:55.819297",
     "exception": false,
     "start_time": "2024-04-24T09:44:55.770144",
     "status": "completed"
    },
    "tags": []
   },
   "outputs": [],
   "source": [
    "summary_tab.loc[0] = ['Intercept',reg.intercept_[0]]"
   ]
  },
  {
   "cell_type": "code",
   "execution_count": 44,
   "id": "4fa6677e",
   "metadata": {
    "execution": {
     "iopub.execute_input": "2024-04-24T09:44:55.860421Z",
     "iopub.status.busy": "2024-04-24T09:44:55.859924Z",
     "iopub.status.idle": "2024-04-24T09:44:55.872264Z",
     "shell.execute_reply": "2024-04-24T09:44:55.871515Z"
    },
    "papermill": {
     "duration": 0.032496,
     "end_time": "2024-04-24T09:44:55.874241",
     "exception": false,
     "start_time": "2024-04-24T09:44:55.841745",
     "status": "completed"
    },
    "tags": []
   },
   "outputs": [
    {
     "data": {
      "text/html": [
       "<div>\n",
       "<style scoped>\n",
       "    .dataframe tbody tr th:only-of-type {\n",
       "        vertical-align: middle;\n",
       "    }\n",
       "\n",
       "    .dataframe tbody tr th {\n",
       "        vertical-align: top;\n",
       "    }\n",
       "\n",
       "    .dataframe thead th {\n",
       "        text-align: right;\n",
       "    }\n",
       "</style>\n",
       "<table border=\"1\" class=\"dataframe\">\n",
       "  <thead>\n",
       "    <tr style=\"text-align: right;\">\n",
       "      <th></th>\n",
       "      <th>Feature_name</th>\n",
       "      <th>Coefficient</th>\n",
       "    </tr>\n",
       "  </thead>\n",
       "  <tbody>\n",
       "    <tr>\n",
       "      <th>0</th>\n",
       "      <td>Intercept</td>\n",
       "      <td>-1.694377</td>\n",
       "    </tr>\n",
       "    <tr>\n",
       "      <th>1</th>\n",
       "      <td>Reason_1</td>\n",
       "      <td>2.804044</td>\n",
       "    </tr>\n",
       "    <tr>\n",
       "      <th>2</th>\n",
       "      <td>Reason_2</td>\n",
       "      <td>0.996562</td>\n",
       "    </tr>\n",
       "    <tr>\n",
       "      <th>3</th>\n",
       "      <td>Reason_3</td>\n",
       "      <td>3.101896</td>\n",
       "    </tr>\n",
       "    <tr>\n",
       "      <th>4</th>\n",
       "      <td>Reason_4</td>\n",
       "      <td>0.846441</td>\n",
       "    </tr>\n",
       "    <tr>\n",
       "      <th>5</th>\n",
       "      <td>Month</td>\n",
       "      <td>0.106526</td>\n",
       "    </tr>\n",
       "    <tr>\n",
       "      <th>6</th>\n",
       "      <td>Transportation Expense</td>\n",
       "      <td>0.572040</td>\n",
       "    </tr>\n",
       "    <tr>\n",
       "      <th>7</th>\n",
       "      <td>Age</td>\n",
       "      <td>-0.251107</td>\n",
       "    </tr>\n",
       "    <tr>\n",
       "      <th>8</th>\n",
       "      <td>Body Mass Index</td>\n",
       "      <td>0.284989</td>\n",
       "    </tr>\n",
       "    <tr>\n",
       "      <th>9</th>\n",
       "      <td>Education</td>\n",
       "      <td>-0.045855</td>\n",
       "    </tr>\n",
       "    <tr>\n",
       "      <th>10</th>\n",
       "      <td>Children</td>\n",
       "      <td>0.465138</td>\n",
       "    </tr>\n",
       "    <tr>\n",
       "      <th>11</th>\n",
       "      <td>Pets</td>\n",
       "      <td>-0.292372</td>\n",
       "    </tr>\n",
       "  </tbody>\n",
       "</table>\n",
       "</div>"
      ],
      "text/plain": [
       "              Feature_name  Coefficient\n",
       "0                Intercept    -1.694377\n",
       "1                 Reason_1     2.804044\n",
       "2                 Reason_2     0.996562\n",
       "3                 Reason_3     3.101896\n",
       "4                 Reason_4     0.846441\n",
       "5                    Month     0.106526\n",
       "6   Transportation Expense     0.572040\n",
       "7                      Age    -0.251107\n",
       "8          Body Mass Index     0.284989\n",
       "9                Education    -0.045855\n",
       "10                Children     0.465138\n",
       "11                    Pets    -0.292372"
      ]
     },
     "execution_count": 44,
     "metadata": {},
     "output_type": "execute_result"
    }
   ],
   "source": [
    "summary_tab = summary_tab.sort_index()\n",
    "summary_tab"
   ]
  },
  {
   "cell_type": "code",
   "execution_count": 45,
   "id": "2784b8d0",
   "metadata": {
    "execution": {
     "iopub.execute_input": "2024-04-24T09:44:55.910146Z",
     "iopub.status.busy": "2024-04-24T09:44:55.909767Z",
     "iopub.status.idle": "2024-04-24T09:44:55.921792Z",
     "shell.execute_reply": "2024-04-24T09:44:55.920927Z"
    },
    "papermill": {
     "duration": 0.032382,
     "end_time": "2024-04-24T09:44:55.923791",
     "exception": false,
     "start_time": "2024-04-24T09:44:55.891409",
     "status": "completed"
    },
    "tags": []
   },
   "outputs": [
    {
     "data": {
      "text/html": [
       "<div>\n",
       "<style scoped>\n",
       "    .dataframe tbody tr th:only-of-type {\n",
       "        vertical-align: middle;\n",
       "    }\n",
       "\n",
       "    .dataframe tbody tr th {\n",
       "        vertical-align: top;\n",
       "    }\n",
       "\n",
       "    .dataframe thead th {\n",
       "        text-align: right;\n",
       "    }\n",
       "</style>\n",
       "<table border=\"1\" class=\"dataframe\">\n",
       "  <thead>\n",
       "    <tr style=\"text-align: right;\">\n",
       "      <th></th>\n",
       "      <th>Feature_name</th>\n",
       "      <th>Coefficient</th>\n",
       "      <th>Odds_ratio</th>\n",
       "    </tr>\n",
       "  </thead>\n",
       "  <tbody>\n",
       "    <tr>\n",
       "      <th>0</th>\n",
       "      <td>Intercept</td>\n",
       "      <td>-1.694377</td>\n",
       "      <td>0.183714</td>\n",
       "    </tr>\n",
       "    <tr>\n",
       "      <th>1</th>\n",
       "      <td>Reason_1</td>\n",
       "      <td>2.804044</td>\n",
       "      <td>16.511285</td>\n",
       "    </tr>\n",
       "    <tr>\n",
       "      <th>2</th>\n",
       "      <td>Reason_2</td>\n",
       "      <td>0.996562</td>\n",
       "      <td>2.708951</td>\n",
       "    </tr>\n",
       "    <tr>\n",
       "      <th>3</th>\n",
       "      <td>Reason_3</td>\n",
       "      <td>3.101896</td>\n",
       "      <td>22.240082</td>\n",
       "    </tr>\n",
       "    <tr>\n",
       "      <th>4</th>\n",
       "      <td>Reason_4</td>\n",
       "      <td>0.846441</td>\n",
       "      <td>2.331334</td>\n",
       "    </tr>\n",
       "    <tr>\n",
       "      <th>5</th>\n",
       "      <td>Month</td>\n",
       "      <td>0.106526</td>\n",
       "      <td>1.112406</td>\n",
       "    </tr>\n",
       "    <tr>\n",
       "      <th>6</th>\n",
       "      <td>Transportation Expense</td>\n",
       "      <td>0.572040</td>\n",
       "      <td>1.771878</td>\n",
       "    </tr>\n",
       "    <tr>\n",
       "      <th>7</th>\n",
       "      <td>Age</td>\n",
       "      <td>-0.251107</td>\n",
       "      <td>0.777939</td>\n",
       "    </tr>\n",
       "    <tr>\n",
       "      <th>8</th>\n",
       "      <td>Body Mass Index</td>\n",
       "      <td>0.284989</td>\n",
       "      <td>1.329747</td>\n",
       "    </tr>\n",
       "    <tr>\n",
       "      <th>9</th>\n",
       "      <td>Education</td>\n",
       "      <td>-0.045855</td>\n",
       "      <td>0.955180</td>\n",
       "    </tr>\n",
       "    <tr>\n",
       "      <th>10</th>\n",
       "      <td>Children</td>\n",
       "      <td>0.465138</td>\n",
       "      <td>1.592234</td>\n",
       "    </tr>\n",
       "    <tr>\n",
       "      <th>11</th>\n",
       "      <td>Pets</td>\n",
       "      <td>-0.292372</td>\n",
       "      <td>0.746491</td>\n",
       "    </tr>\n",
       "  </tbody>\n",
       "</table>\n",
       "</div>"
      ],
      "text/plain": [
       "              Feature_name  Coefficient  Odds_ratio\n",
       "0                Intercept    -1.694377    0.183714\n",
       "1                 Reason_1     2.804044   16.511285\n",
       "2                 Reason_2     0.996562    2.708951\n",
       "3                 Reason_3     3.101896   22.240082\n",
       "4                 Reason_4     0.846441    2.331334\n",
       "5                    Month     0.106526    1.112406\n",
       "6   Transportation Expense     0.572040    1.771878\n",
       "7                      Age    -0.251107    0.777939\n",
       "8          Body Mass Index     0.284989    1.329747\n",
       "9                Education    -0.045855    0.955180\n",
       "10                Children     0.465138    1.592234\n",
       "11                    Pets    -0.292372    0.746491"
      ]
     },
     "execution_count": 45,
     "metadata": {},
     "output_type": "execute_result"
    }
   ],
   "source": [
    "summary_tab['Odds_ratio'] = np.exp(summary_tab.Coefficient)\n",
    "summary_tab"
   ]
  },
  {
   "cell_type": "code",
   "execution_count": 46,
   "id": "1727ef63",
   "metadata": {
    "execution": {
     "iopub.execute_input": "2024-04-24T09:44:55.959853Z",
     "iopub.status.busy": "2024-04-24T09:44:55.959436Z",
     "iopub.status.idle": "2024-04-24T09:44:55.971365Z",
     "shell.execute_reply": "2024-04-24T09:44:55.970542Z"
    },
    "papermill": {
     "duration": 0.032995,
     "end_time": "2024-04-24T09:44:55.973628",
     "exception": false,
     "start_time": "2024-04-24T09:44:55.940633",
     "status": "completed"
    },
    "tags": []
   },
   "outputs": [
    {
     "data": {
      "text/html": [
       "<div>\n",
       "<style scoped>\n",
       "    .dataframe tbody tr th:only-of-type {\n",
       "        vertical-align: middle;\n",
       "    }\n",
       "\n",
       "    .dataframe tbody tr th {\n",
       "        vertical-align: top;\n",
       "    }\n",
       "\n",
       "    .dataframe thead th {\n",
       "        text-align: right;\n",
       "    }\n",
       "</style>\n",
       "<table border=\"1\" class=\"dataframe\">\n",
       "  <thead>\n",
       "    <tr style=\"text-align: right;\">\n",
       "      <th></th>\n",
       "      <th>Feature_name</th>\n",
       "      <th>Coefficient</th>\n",
       "      <th>Odds_ratio</th>\n",
       "    </tr>\n",
       "  </thead>\n",
       "  <tbody>\n",
       "    <tr>\n",
       "      <th>3</th>\n",
       "      <td>Reason_3</td>\n",
       "      <td>3.101896</td>\n",
       "      <td>22.240082</td>\n",
       "    </tr>\n",
       "    <tr>\n",
       "      <th>1</th>\n",
       "      <td>Reason_1</td>\n",
       "      <td>2.804044</td>\n",
       "      <td>16.511285</td>\n",
       "    </tr>\n",
       "    <tr>\n",
       "      <th>2</th>\n",
       "      <td>Reason_2</td>\n",
       "      <td>0.996562</td>\n",
       "      <td>2.708951</td>\n",
       "    </tr>\n",
       "    <tr>\n",
       "      <th>4</th>\n",
       "      <td>Reason_4</td>\n",
       "      <td>0.846441</td>\n",
       "      <td>2.331334</td>\n",
       "    </tr>\n",
       "    <tr>\n",
       "      <th>6</th>\n",
       "      <td>Transportation Expense</td>\n",
       "      <td>0.572040</td>\n",
       "      <td>1.771878</td>\n",
       "    </tr>\n",
       "    <tr>\n",
       "      <th>10</th>\n",
       "      <td>Children</td>\n",
       "      <td>0.465138</td>\n",
       "      <td>1.592234</td>\n",
       "    </tr>\n",
       "    <tr>\n",
       "      <th>8</th>\n",
       "      <td>Body Mass Index</td>\n",
       "      <td>0.284989</td>\n",
       "      <td>1.329747</td>\n",
       "    </tr>\n",
       "    <tr>\n",
       "      <th>5</th>\n",
       "      <td>Month</td>\n",
       "      <td>0.106526</td>\n",
       "      <td>1.112406</td>\n",
       "    </tr>\n",
       "    <tr>\n",
       "      <th>9</th>\n",
       "      <td>Education</td>\n",
       "      <td>-0.045855</td>\n",
       "      <td>0.955180</td>\n",
       "    </tr>\n",
       "    <tr>\n",
       "      <th>7</th>\n",
       "      <td>Age</td>\n",
       "      <td>-0.251107</td>\n",
       "      <td>0.777939</td>\n",
       "    </tr>\n",
       "    <tr>\n",
       "      <th>11</th>\n",
       "      <td>Pets</td>\n",
       "      <td>-0.292372</td>\n",
       "      <td>0.746491</td>\n",
       "    </tr>\n",
       "    <tr>\n",
       "      <th>0</th>\n",
       "      <td>Intercept</td>\n",
       "      <td>-1.694377</td>\n",
       "      <td>0.183714</td>\n",
       "    </tr>\n",
       "  </tbody>\n",
       "</table>\n",
       "</div>"
      ],
      "text/plain": [
       "              Feature_name  Coefficient  Odds_ratio\n",
       "3                 Reason_3     3.101896   22.240082\n",
       "1                 Reason_1     2.804044   16.511285\n",
       "2                 Reason_2     0.996562    2.708951\n",
       "4                 Reason_4     0.846441    2.331334\n",
       "6   Transportation Expense     0.572040    1.771878\n",
       "10                Children     0.465138    1.592234\n",
       "8          Body Mass Index     0.284989    1.329747\n",
       "5                    Month     0.106526    1.112406\n",
       "9                Education    -0.045855    0.955180\n",
       "7                      Age    -0.251107    0.777939\n",
       "11                    Pets    -0.292372    0.746491\n",
       "0                Intercept    -1.694377    0.183714"
      ]
     },
     "execution_count": 46,
     "metadata": {},
     "output_type": "execute_result"
    }
   ],
   "source": [
    "summary_tab.sort_values('Odds_ratio',ascending=False)"
   ]
  },
  {
   "cell_type": "code",
   "execution_count": 47,
   "id": "86b55669",
   "metadata": {
    "execution": {
     "iopub.execute_input": "2024-04-24T09:44:56.010389Z",
     "iopub.status.busy": "2024-04-24T09:44:56.009980Z",
     "iopub.status.idle": "2024-04-24T09:44:56.014498Z",
     "shell.execute_reply": "2024-04-24T09:44:56.013425Z"
    },
    "papermill": {
     "duration": 0.02544,
     "end_time": "2024-04-24T09:44:56.016446",
     "exception": false,
     "start_time": "2024-04-24T09:44:55.991006",
     "status": "completed"
    },
    "tags": []
   },
   "outputs": [],
   "source": [
    "#Checkpoint: simplyfying model"
   ]
  },
  {
   "cell_type": "code",
   "execution_count": 48,
   "id": "bc173806",
   "metadata": {
    "execution": {
     "iopub.execute_input": "2024-04-24T09:44:56.053366Z",
     "iopub.status.busy": "2024-04-24T09:44:56.052988Z",
     "iopub.status.idle": "2024-04-24T09:44:56.057595Z",
     "shell.execute_reply": "2024-04-24T09:44:56.056384Z"
    },
    "papermill": {
     "duration": 0.025883,
     "end_time": "2024-04-24T09:44:56.059777",
     "exception": false,
     "start_time": "2024-04-24T09:44:56.033894",
     "status": "completed"
    },
    "tags": []
   },
   "outputs": [],
   "source": [
    "#testing the regression model "
   ]
  },
  {
   "cell_type": "code",
   "execution_count": 49,
   "id": "65725efd",
   "metadata": {
    "execution": {
     "iopub.execute_input": "2024-04-24T09:44:56.096216Z",
     "iopub.status.busy": "2024-04-24T09:44:56.095837Z",
     "iopub.status.idle": "2024-04-24T09:44:56.104913Z",
     "shell.execute_reply": "2024-04-24T09:44:56.103537Z"
    },
    "papermill": {
     "duration": 0.030086,
     "end_time": "2024-04-24T09:44:56.107090",
     "exception": false,
     "start_time": "2024-04-24T09:44:56.077004",
     "status": "completed"
    },
    "tags": []
   },
   "outputs": [
    {
     "data": {
      "text/plain": [
       "0.75"
      ]
     },
     "execution_count": 49,
     "metadata": {},
     "output_type": "execute_result"
    }
   ],
   "source": [
    "reg.score(x_test,y_test)"
   ]
  },
  {
   "cell_type": "code",
   "execution_count": 50,
   "id": "048a29e9",
   "metadata": {
    "execution": {
     "iopub.execute_input": "2024-04-24T09:44:56.153653Z",
     "iopub.status.busy": "2024-04-24T09:44:56.152814Z",
     "iopub.status.idle": "2024-04-24T09:44:56.168499Z",
     "shell.execute_reply": "2024-04-24T09:44:56.167452Z"
    },
    "papermill": {
     "duration": 0.042265,
     "end_time": "2024-04-24T09:44:56.170655",
     "exception": false,
     "start_time": "2024-04-24T09:44:56.128390",
     "status": "completed"
    },
    "tags": []
   },
   "outputs": [
    {
     "data": {
      "text/plain": [
       "array([[0.26316067, 0.73683933],\n",
       "       [0.75352471, 0.24647529],\n",
       "       [0.75263033, 0.24736967],\n",
       "       [0.8504347 , 0.1495653 ],\n",
       "       [0.56074809, 0.43925191],\n",
       "       [0.87577811, 0.12422189],\n",
       "       [0.33003037, 0.66996963],\n",
       "       [0.15332554, 0.84667446],\n",
       "       [0.76464709, 0.23535291],\n",
       "       [0.13406616, 0.86593384],\n",
       "       [0.70561623, 0.29438377],\n",
       "       [0.13745303, 0.86254697],\n",
       "       [0.61342902, 0.38657098],\n",
       "       [0.32918386, 0.67081614],\n",
       "       [0.35397769, 0.64602231],\n",
       "       [0.84266371, 0.15733629],\n",
       "       [0.76922364, 0.23077636],\n",
       "       [0.38109653, 0.61890347],\n",
       "       [0.86179186, 0.13820814],\n",
       "       [0.79262112, 0.20737888],\n",
       "       [0.70561623, 0.29438377],\n",
       "       [0.51066833, 0.48933167],\n",
       "       [0.44532234, 0.55467766],\n",
       "       [0.64823281, 0.35176719],\n",
       "       [0.51842515, 0.48157485],\n",
       "       [0.83350224, 0.16649776],\n",
       "       [0.71189416, 0.28810584],\n",
       "       [0.75912973, 0.24087027],\n",
       "       [0.87061106, 0.12938894],\n",
       "       [0.62715666, 0.37284334],\n",
       "       [0.19681319, 0.80318681],\n",
       "       [0.56936588, 0.43063412],\n",
       "       [0.49857654, 0.50142346],\n",
       "       [0.51406336, 0.48593664],\n",
       "       [0.21074512, 0.78925488],\n",
       "       [0.62001783, 0.37998217],\n",
       "       [0.67544939, 0.32455061],\n",
       "       [0.80001966, 0.19998034],\n",
       "       [0.77984457, 0.22015543],\n",
       "       [0.5768068 , 0.4231932 ],\n",
       "       [0.74692449, 0.25307551],\n",
       "       [0.22726004, 0.77273996],\n",
       "       [0.73129318, 0.26870682],\n",
       "       [0.14267264, 0.85732736],\n",
       "       [0.4381219 , 0.5618781 ],\n",
       "       [0.35050836, 0.64949164],\n",
       "       [0.25027577, 0.74972423],\n",
       "       [0.3609632 , 0.6390368 ],\n",
       "       [0.20647218, 0.79352782],\n",
       "       [0.79011007, 0.20988993],\n",
       "       [0.76464709, 0.23535291],\n",
       "       [0.75263033, 0.24736967],\n",
       "       [0.76378042, 0.23621958],\n",
       "       [0.18304467, 0.81695533],\n",
       "       [0.86192687, 0.13807313],\n",
       "       [0.80001966, 0.19998034],\n",
       "       [0.87230509, 0.12769491],\n",
       "       [0.76464709, 0.23535291],\n",
       "       [0.74783259, 0.25216741],\n",
       "       [0.76378042, 0.23621958],\n",
       "       [0.73722745, 0.26277255],\n",
       "       [0.35397769, 0.64602231],\n",
       "       [0.36447877, 0.63552123],\n",
       "       [0.14267264, 0.85732736],\n",
       "       [0.52301576, 0.47698424],\n",
       "       [0.25898096, 0.74101904],\n",
       "       [0.27934164, 0.72065836],\n",
       "       [0.63917296, 0.36082704],\n",
       "       [0.69968122, 0.30031878],\n",
       "       [0.86550674, 0.13449326],\n",
       "       [0.77457845, 0.22542155],\n",
       "       [0.71189416, 0.28810584],\n",
       "       [0.80484119, 0.19515881],\n",
       "       [0.12877566, 0.87122434],\n",
       "       [0.33340106, 0.66659894],\n",
       "       [0.39382255, 0.60617745],\n",
       "       [0.69925929, 0.30074071],\n",
       "       [0.62001783, 0.37998217],\n",
       "       [0.04616969, 0.95383031],\n",
       "       [0.79011007, 0.20988993],\n",
       "       [0.78244461, 0.21755539],\n",
       "       [0.75824916, 0.24175084],\n",
       "       [0.77984457, 0.22015543],\n",
       "       [0.38658583, 0.61341417],\n",
       "       [0.80001966, 0.19998034],\n",
       "       [0.55439295, 0.44560705],\n",
       "       [0.74783259, 0.25216741],\n",
       "       [0.80001966, 0.19998034],\n",
       "       [0.84064829, 0.15935171],\n",
       "       [0.1643562 , 0.8356438 ],\n",
       "       [0.61282671, 0.38717329],\n",
       "       [0.23714986, 0.76285014],\n",
       "       [0.16022155, 0.83977845],\n",
       "       [0.22615751, 0.77384249],\n",
       "       [0.39382255, 0.60617745],\n",
       "       [0.32667627, 0.67332373],\n",
       "       [0.86537469, 0.13462531],\n",
       "       [0.69925929, 0.30074071],\n",
       "       [0.79184205, 0.20815795],\n",
       "       [0.37065823, 0.62934177],\n",
       "       [0.25286011, 0.74713989],\n",
       "       [0.89139923, 0.10860077],\n",
       "       [0.03225533, 0.96774467],\n",
       "       [0.29414706, 0.70585294],\n",
       "       [0.74928958, 0.25071042],\n",
       "       [0.52601351, 0.47398649],\n",
       "       [0.69319292, 0.30680708],\n",
       "       [0.32250299, 0.67749701],\n",
       "       [0.71666898, 0.28333102],\n",
       "       [0.14366527, 0.85633473],\n",
       "       [0.9289274 , 0.0710726 ],\n",
       "       [0.57299578, 0.42700422],\n",
       "       [0.53059729, 0.46940271],\n",
       "       [0.38082912, 0.61917088],\n",
       "       [0.56936588, 0.43063412],\n",
       "       [0.21910464, 0.78089536],\n",
       "       [0.68674643, 0.31325357],\n",
       "       [0.77676234, 0.22323766],\n",
       "       [0.80001966, 0.19998034],\n",
       "       [0.02702043, 0.97297957],\n",
       "       [0.86192687, 0.13807313],\n",
       "       [0.71189416, 0.28810584],\n",
       "       [0.1141023 , 0.8858977 ],\n",
       "       [0.48337562, 0.51662438],\n",
       "       [0.25286011, 0.74713989],\n",
       "       [0.79510934, 0.20489066],\n",
       "       [0.3609632 , 0.6390368 ],\n",
       "       [0.78244461, 0.21755539],\n",
       "       [0.83350224, 0.16649776],\n",
       "       [0.38658583, 0.61341417],\n",
       "       [0.73806751, 0.26193249],\n",
       "       [0.76922364, 0.23077636],\n",
       "       [0.84665417, 0.15334583],\n",
       "       [0.415749  , 0.584251  ],\n",
       "       [0.65513639, 0.34486361],\n",
       "       [0.79510934, 0.20489066],\n",
       "       [0.03131934, 0.96868066],\n",
       "       [0.76464709, 0.23535291],\n",
       "       [0.30050107, 0.69949893],\n",
       "       [0.47960009, 0.52039991]])"
      ]
     },
     "execution_count": 50,
     "metadata": {},
     "output_type": "execute_result"
    }
   ],
   "source": [
    "predicted_proba = reg.predict_proba(x_test)\n",
    "predicted_proba"
   ]
  },
  {
   "cell_type": "code",
   "execution_count": 51,
   "id": "e53604d4",
   "metadata": {
    "execution": {
     "iopub.execute_input": "2024-04-24T09:44:56.209857Z",
     "iopub.status.busy": "2024-04-24T09:44:56.208676Z",
     "iopub.status.idle": "2024-04-24T09:44:56.217490Z",
     "shell.execute_reply": "2024-04-24T09:44:56.216301Z"
    },
    "papermill": {
     "duration": 0.030654,
     "end_time": "2024-04-24T09:44:56.219465",
     "exception": false,
     "start_time": "2024-04-24T09:44:56.188811",
     "status": "completed"
    },
    "tags": []
   },
   "outputs": [
    {
     "data": {
      "text/plain": [
       "array([0.73683933, 0.24647529, 0.24736967, 0.1495653 , 0.43925191,\n",
       "       0.12422189, 0.66996963, 0.84667446, 0.23535291, 0.86593384,\n",
       "       0.29438377, 0.86254697, 0.38657098, 0.67081614, 0.64602231,\n",
       "       0.15733629, 0.23077636, 0.61890347, 0.13820814, 0.20737888,\n",
       "       0.29438377, 0.48933167, 0.55467766, 0.35176719, 0.48157485,\n",
       "       0.16649776, 0.28810584, 0.24087027, 0.12938894, 0.37284334,\n",
       "       0.80318681, 0.43063412, 0.50142346, 0.48593664, 0.78925488,\n",
       "       0.37998217, 0.32455061, 0.19998034, 0.22015543, 0.4231932 ,\n",
       "       0.25307551, 0.77273996, 0.26870682, 0.85732736, 0.5618781 ,\n",
       "       0.64949164, 0.74972423, 0.6390368 , 0.79352782, 0.20988993,\n",
       "       0.23535291, 0.24736967, 0.23621958, 0.81695533, 0.13807313,\n",
       "       0.19998034, 0.12769491, 0.23535291, 0.25216741, 0.23621958,\n",
       "       0.26277255, 0.64602231, 0.63552123, 0.85732736, 0.47698424,\n",
       "       0.74101904, 0.72065836, 0.36082704, 0.30031878, 0.13449326,\n",
       "       0.22542155, 0.28810584, 0.19515881, 0.87122434, 0.66659894,\n",
       "       0.60617745, 0.30074071, 0.37998217, 0.95383031, 0.20988993,\n",
       "       0.21755539, 0.24175084, 0.22015543, 0.61341417, 0.19998034,\n",
       "       0.44560705, 0.25216741, 0.19998034, 0.15935171, 0.8356438 ,\n",
       "       0.38717329, 0.76285014, 0.83977845, 0.77384249, 0.60617745,\n",
       "       0.67332373, 0.13462531, 0.30074071, 0.20815795, 0.62934177,\n",
       "       0.74713989, 0.10860077, 0.96774467, 0.70585294, 0.25071042,\n",
       "       0.47398649, 0.30680708, 0.67749701, 0.28333102, 0.85633473,\n",
       "       0.0710726 , 0.42700422, 0.46940271, 0.61917088, 0.43063412,\n",
       "       0.78089536, 0.31325357, 0.22323766, 0.19998034, 0.97297957,\n",
       "       0.13807313, 0.28810584, 0.8858977 , 0.51662438, 0.74713989,\n",
       "       0.20489066, 0.6390368 , 0.21755539, 0.16649776, 0.61341417,\n",
       "       0.26193249, 0.23077636, 0.15334583, 0.584251  , 0.34486361,\n",
       "       0.20489066, 0.96868066, 0.23535291, 0.69949893, 0.52039991])"
      ]
     },
     "execution_count": 51,
     "metadata": {},
     "output_type": "execute_result"
    }
   ],
   "source": [
    "predicted_proba[:,1]"
   ]
  },
  {
   "cell_type": "code",
   "execution_count": 52,
   "id": "7f2f1030",
   "metadata": {
    "execution": {
     "iopub.execute_input": "2024-04-24T09:44:56.258190Z",
     "iopub.status.busy": "2024-04-24T09:44:56.257504Z",
     "iopub.status.idle": "2024-04-24T09:44:56.262206Z",
     "shell.execute_reply": "2024-04-24T09:44:56.261003Z"
    },
    "papermill": {
     "duration": 0.02746,
     "end_time": "2024-04-24T09:44:56.264790",
     "exception": false,
     "start_time": "2024-04-24T09:44:56.237330",
     "status": "completed"
    },
    "tags": []
   },
   "outputs": [],
   "source": [
    "#Saving the logreg model- creating a file that will store the model information and its training"
   ]
  },
  {
   "cell_type": "code",
   "execution_count": 53,
   "id": "f29d5f88",
   "metadata": {
    "execution": {
     "iopub.execute_input": "2024-04-24T09:44:56.314110Z",
     "iopub.status.busy": "2024-04-24T09:44:56.313145Z",
     "iopub.status.idle": "2024-04-24T09:44:56.320630Z",
     "shell.execute_reply": "2024-04-24T09:44:56.319582Z"
    },
    "papermill": {
     "duration": 0.036404,
     "end_time": "2024-04-24T09:44:56.323165",
     "exception": false,
     "start_time": "2024-04-24T09:44:56.286761",
     "status": "completed"
    },
    "tags": []
   },
   "outputs": [],
   "source": [
    "#pickling\n",
    "import pickle\n",
    "with open('mlmodel','wb') as file:\n",
    "    pickle.dump(reg, file)\n",
    "with open('abscaler','wb') as scalerfile:\n",
    "    pickle.dump(abs_scaler, scalerfile)"
   ]
  },
  {
   "cell_type": "markdown",
   "id": "b70c2e3a",
   "metadata": {
    "papermill": {
     "duration": 0.023962,
     "end_time": "2024-04-24T09:44:56.370604",
     "exception": false,
     "start_time": "2024-04-24T09:44:56.346642",
     "status": "completed"
    },
    "tags": []
   },
   "source": []
  }
 ],
 "metadata": {
  "kaggle": {
   "accelerator": "none",
   "dataSources": [
    {
     "datasetId": 4719053,
     "sourceId": 8011043,
     "sourceType": "datasetVersion"
    }
   ],
   "dockerImageVersionId": 30673,
   "isGpuEnabled": false,
   "isInternetEnabled": true,
   "language": "python",
   "sourceType": "notebook"
  },
  "kernelspec": {
   "display_name": "Python 3",
   "language": "python",
   "name": "python3"
  },
  "language_info": {
   "codemirror_mode": {
    "name": "ipython",
    "version": 3
   },
   "file_extension": ".py",
   "mimetype": "text/x-python",
   "name": "python",
   "nbconvert_exporter": "python",
   "pygments_lexer": "ipython3",
   "version": "3.10.13"
  },
  "papermill": {
   "default_parameters": {},
   "duration": 8.409744,
   "end_time": "2024-04-24T09:44:57.016737",
   "environment_variables": {},
   "exception": null,
   "input_path": "__notebook__.ipynb",
   "output_path": "__notebook__.ipynb",
   "parameters": {},
   "start_time": "2024-04-24T09:44:48.606993",
   "version": "2.5.0"
  }
 },
 "nbformat": 4,
 "nbformat_minor": 5
}
