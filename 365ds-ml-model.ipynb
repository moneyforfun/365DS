ML
# %% [code]
# %% [code] {"execution":{"iopub.status.busy":"2024-04-25T15:30:41.903888Z","iopub.execute_input":"2024-04-25T15:30:41.904570Z","iopub.status.idle":"2024-04-25T15:30:42.802063Z","shell.execute_reply.started":"2024-04-25T15:30:41.904538Z","shell.execute_reply":"2024-04-25T15:30:42.801285Z"}}
# This Python 3 environment comes with many helpful analytics libraries installed
# It is defined by the kaggle/python Docker image: https://github.com/kaggle/docker-python
# For example, here's several helpful packages to load

import numpy as np # linear algebra
import pandas as pd # data processing, CSV file I/O (e.g. pd.read_csv)

# Input data files are available in the read-only "../input/" directory
# For example, running this (by clicking run or pressing Shift+Enter) will list all files under the input directory

import os
for dirname, _, filenames in os.walk('/kaggle/input'):
    for filename in filenames:
        print(os.path.join(dirname, filename))

# You can write up to 20GB to the current directory (/kaggle/working/) that gets preserved as output when you create a version using "Save & Run All" 
# You can also write temporary files to /kaggle/temp/, but they won't be saved outside of the current session

# %% [code] {"execution":{"iopub.status.busy":"2024-04-25T15:30:42.803592Z","iopub.execute_input":"2024-04-25T15:30:42.803949Z","iopub.status.idle":"2024-04-25T15:30:42.807920Z","shell.execute_reply.started":"2024-04-25T15:30:42.803925Z","shell.execute_reply":"2024-04-25T15:30:42.807044Z"}}
#this is the condensed version of the model from the 365DS_ML file

# %% [code] {"execution":{"iopub.status.busy":"2024-04-26T14:22:30.431508Z","iopub.execute_input":"2024-04-26T14:22:30.432056Z","iopub.status.idle":"2024-04-26T14:22:30.455947Z","shell.execute_reply.started":"2024-04-26T14:22:30.432024Z","shell.execute_reply":"2024-04-26T14:22:30.454892Z"}}
#importing libraries
import numpy as np
import pandas as pd 
import pickle
from sklearn.preprocessing import StandardScaler
from sklearn.base import BaseEstimator,TransformerMixin

#introducing classes
class CustomScaler(BaseEstimator,TransformerMixin):
    
    def __init__(self,columns):
        self.scaler = StandardScaler()
        self.columns = columns
        self.mean_ = None
        self.var_ = None
        
    
    def fit(self, X, y=None):
        self.scaler = StandardScaler()
        self.scaler.fit(X[self.columns], y)
        self.mean_ = np.mean(X[self.columns])
        self.var_ = np.var(X[self.columns])
        return self
    

    def transform(self, X, y=None, copy=None):
        init_col_order = X.columns
        X_scaled = pd.DataFrame(self.scaler.transform(X[self.columns]), columns=self.columns)
        X_not_scaled = X.loc[:,~X.columns.isin(self.columns)]
        return pd.concat([X_not_scaled, X_scaled], axis=1)[init_col_order]

#creating a class that will be used for new data prediction

class abs_model():

    def __init__(self,model_file,scaler_file):
        #reading in the model and scaler files- files that were saved
        with open('mlmodel','rb') as model_file, open('abscaler','rb') as scaler_file:
            self.reg = pickle.load(model_file)
            self.scaler = pickle.load(scaler_file)
            self.data = None
    #preprocessing data files-as previously
    def load_and_clean_data(self, data_file):
        
        df = pd.read_csv('/kaggle/input/df-prep-fixed/df_prep (1).csv',encoding='utf-8')
        #storing data in new variable
        self.df_with_predictions = df.copy()
        df = df.drop(['Unnamed: 0'],axis=1)
        df = df.drop(['ID'],axis=1)
        #preserving code created in the previous section- adding new column with NaN strings 
        df['Absenteeism Time in Hours'] = 'NaN'
        
        #creating separate df with dummy values of all variables
        reason_columns = pd.get_dummies(df['Reason for Absence'],drop_first=True)
        reason_type_1 = reason_columns.loc[:,1:14].max(axis=1)
        reason_type_2 = reason_columns.loc[:,15:17].max(axis=1)
        reason_type_3 = reason_columns.loc[:,18:21].max(axis=1)
        reason_type_4 = reason_columns.loc[:,22:28].max(axis=1)
        
        df = df.drop(['Reason for Absence'],axis=1)
        
        df = pd.concat([df, reason_type_1,reason_type_2,reason_type_3,reason_type_4], axis =1 )
        column_names = ['Date', 'Transportation Expense', 'Distance to Work', 'Age',
       'Daily Work Load Average', 'Body Mass Index', 'Education',
       'Children', 'Pets', 'Absenteeism Time in Hours', 'Reason_1', 'Reason_2', 'Reason_3','Reason_4']
        df.columns = column_names
        column_names_reordered = ['Reason_1', 'Reason_2', 'Reason_3','Reason_4','Date', 'Transportation Expense', 'Distance to Work', 'Age',
       'Daily Work Load Average', 'Body Mass Index', 'Education',
       'Children', 'Pets', 'Absenteeism Time in Hours']

        df = df[column_names_reordered]
        df['Date'] = pd.to_datetime(df['Date'],format= '%d/%m/%Y')
        list_mo = []
        for i in range(dfmod.shape[0]):
            list_mo.append(df['Date'][i].month)
        df['Month'] = list_mo
        list_day = []
        list_year = []

        for i in range(dfmod.shape[0]):
            list_day.append(df['Date'][i].weekday())
            list_year.append(df['Date'][i].year)

        df['WeekDay'] = list_day
        df['Year'] = list_year
        df['Education'] = dfmod['Education'].map({1:0, 2:1, 3:1,4:1})
        
        df = df.fillna(value=0)
    
        df = df.drop(['Date'],axis=1)
        df = df.drop(['Absenteeism Time in Hours','WeekDay','Daily Work Load Average','Distance to Work'],axis=1)
        
        self.preprocessed_data = df.copy()
        
        self.data = self.scaler.transform(df)
        
    def predicted_probability(self):
        if (self.data is not None):
            pred = self.reg.predict_proba(self.data)[:.1]
            return pred
    def predicted_output_category(self):
        if(self.data is not None):
            pred_outputs = self.reg.predict(self.data)
            return pred_outputs
        
    def predicted_outputs(self):
        if (self.data is not None):
            self.preprocessed_data['Probability'] = self.reg.predict_proba(self.data)[:.1]
            self.preprocessed_data['Prediction'] = self.reg.predict(self.data)
            return self.preprocessed_data
{
 "cells": [
  {
   "cell_type": "code",
   "execution_count": 1,
   "id": "2a014802",
   "metadata": {
    "_cell_guid": "b1076dfc-b9ad-4769-8c92-a6c4dae69d19",
    "_uuid": "8f2839f25d086af736a60e9eeb907d3b93b6e0e5",
    "execution": {
     "iopub.execute_input": "2024-04-26T14:24:25.582369Z",
     "iopub.status.busy": "2024-04-26T14:24:25.581610Z",
     "iopub.status.idle": "2024-04-26T14:24:26.350627Z",
     "shell.execute_reply": "2024-04-26T14:24:26.349751Z"
    },
    "papermill": {
     "duration": 0.775151,
     "end_time": "2024-04-26T14:24:26.353186",
     "exception": false,
     "start_time": "2024-04-26T14:24:25.578035",
     "status": "completed"
    },
    "tags": []
   },
   "outputs": [],
   "source": [
    "# This Python 3 environment comes with many helpful analytics libraries installed\n",
    "# It is defined by the kaggle/python Docker image: https://github.com/kaggle/docker-python\n",
    "# For example, here's several helpful packages to load\n",
    "\n",
    "import numpy as np # linear algebra\n",
    "import pandas as pd # data processing, CSV file I/O (e.g. pd.read_csv)\n",
    "\n",
    "# Input data files are available in the read-only \"../input/\" directory\n",
    "# For example, running this (by clicking run or pressing Shift+Enter) will list all files under the input directory\n",
    "\n",
    "import os\n",
    "for dirname, _, filenames in os.walk('/kaggle/input'):\n",
    "    for filename in filenames:\n",
    "        print(os.path.join(dirname, filename))\n",
    "\n",
    "# You can write up to 20GB to the current directory (/kaggle/working/) that gets preserved as output when you create a version using \"Save & Run All\" \n",
    "# You can also write temporary files to /kaggle/temp/, but they won't be saved outside of the current session"
   ]
  },
  {
   "cell_type": "code",
   "execution_count": 2,
   "id": "f222c0b7",
   "metadata": {
    "execution": {
     "iopub.execute_input": "2024-04-26T14:24:26.358890Z",
     "iopub.status.busy": "2024-04-26T14:24:26.358526Z",
     "iopub.status.idle": "2024-04-26T14:24:26.362344Z",
     "shell.execute_reply": "2024-04-26T14:24:26.361518Z"
    },
    "papermill": {
     "duration": 0.008681,
     "end_time": "2024-04-26T14:24:26.364343",
     "exception": false,
     "start_time": "2024-04-26T14:24:26.355662",
     "status": "completed"
    },
    "tags": []
   },
   "outputs": [],
   "source": [
    "#this is the condensed version of the model from the 365DS_ML file"
   ]
  },
  {
   "cell_type": "code",
   "execution_count": 3,
   "id": "126154f4",
   "metadata": {
    "execution": {
     "iopub.execute_input": "2024-04-26T14:24:26.369766Z",
     "iopub.status.busy": "2024-04-26T14:24:26.369521Z",
     "iopub.status.idle": "2024-04-26T14:24:27.361347Z",
     "shell.execute_reply": "2024-04-26T14:24:27.360350Z"
    },
    "papermill": {
     "duration": 0.99725,
     "end_time": "2024-04-26T14:24:27.363739",
     "exception": false,
     "start_time": "2024-04-26T14:24:26.366489",
     "status": "completed"
    },
    "tags": []
   },
   "outputs": [],
   "source": [
    "#importing libraries\n",
    "import numpy as np\n",
    "import pandas as pd \n",
    "import pickle\n",
    "from sklearn.preprocessing import StandardScaler\n",
    "from sklearn.base import BaseEstimator,TransformerMixin\n",
    "\n",
    "#introducing classes\n",
    "class CustomScaler(BaseEstimator,TransformerMixin):\n",
    "    \n",
    "    def __init__(self,columns):\n",
    "        self.scaler = StandardScaler()\n",
    "        self.columns = columns\n",
    "        self.mean_ = None\n",
    "        self.var_ = None\n",
    "        \n",
    "    \n",
    "    def fit(self, X, y=None):\n",
    "        self.scaler = StandardScaler()\n",
    "        self.scaler.fit(X[self.columns], y)\n",
    "        self.mean_ = np.mean(X[self.columns])\n",
    "        self.var_ = np.var(X[self.columns])\n",
    "        return self\n",
    "    \n",
    "\n",
    "    def transform(self, X, y=None, copy=None):\n",
    "        init_col_order = X.columns\n",
    "        X_scaled = pd.DataFrame(self.scaler.transform(X[self.columns]), columns=self.columns)\n",
    "        X_not_scaled = X.loc[:,~X.columns.isin(self.columns)]\n",
    "        return pd.concat([X_not_scaled, X_scaled], axis=1)[init_col_order]\n",
    "\n",
    "#creating a class that will be used for new data prediction\n",
    "\n",
    "class abs_model():\n",
    "\n",
    "    def __init__(self,model_file,scaler_file):\n",
    "        #reading in the model and scaler files- files that were saved\n",
    "        with open('mlmodel','rb') as model_file, open('abscaler','rb') as scaler_file:\n",
    "            self.reg = pickle.load(model_file)\n",
    "            self.scaler = pickle.load(scaler_file)\n",
    "            self.data = None\n",
    "    #preprocessing data files-as previously\n",
    "    def load_and_clean_data(self, data_file):\n",
    "        \n",
    "        df = pd.read_csv('/kaggle/input/df-prep-fixed/df_prep (1).csv',encoding='utf-8')\n",
    "        #storing data in new variable\n",
    "        self.df_with_predictions = df.copy()\n",
    "        df = df.drop(['Unnamed: 0'],axis=1)\n",
    "        df = df.drop(['ID'],axis=1)\n",
    "        #preserving code created in the previous section- adding new column with NaN strings \n",
    "        df['Absenteeism Time in Hours'] = 'NaN'\n",
    "        \n",
    "        #creating separate df with dummy values of all variables\n",
    "        reason_columns = pd.get_dummies(df['Reason for Absence'],drop_first=True)\n",
    "        reason_type_1 = reason_columns.loc[:,1:14].max(axis=1)\n",
    "        reason_type_2 = reason_columns.loc[:,15:17].max(axis=1)\n",
    "        reason_type_3 = reason_columns.loc[:,18:21].max(axis=1)\n",
    "        reason_type_4 = reason_columns.loc[:,22:28].max(axis=1)\n",
    "        \n",
    "        df = df.drop(['Reason for Absence'],axis=1)\n",
    "        \n",
    "        df = pd.concat([df, reason_type_1,reason_type_2,reason_type_3,reason_type_4], axis =1 )\n",
    "        column_names = ['Date', 'Transportation Expense', 'Distance to Work', 'Age',\n",
    "       'Daily Work Load Average', 'Body Mass Index', 'Education',\n",
    "       'Children', 'Pets', 'Absenteeism Time in Hours', 'Reason_1', 'Reason_2', 'Reason_3','Reason_4']\n",
    "        df.columns = column_names\n",
    "        column_names_reordered = ['Reason_1', 'Reason_2', 'Reason_3','Reason_4','Date', 'Transportation Expense', 'Distance to Work', 'Age',\n",
    "       'Daily Work Load Average', 'Body Mass Index', 'Education',\n",
    "       'Children', 'Pets', 'Absenteeism Time in Hours']\n",
    "\n",
    "        df = df[column_names_reordered]\n",
    "        df['Date'] = pd.to_datetime(df['Date'],format= '%d/%m/%Y')\n",
    "        list_mo = []\n",
    "        for i in range(dfmod.shape[0]):\n",
    "            list_mo.append(df['Date'][i].month)\n",
    "        df['Month'] = list_mo\n",
    "        list_day = []\n",
    "        list_year = []\n",
    "\n",
    "        for i in range(dfmod.shape[0]):\n",
    "            list_day.append(df['Date'][i].weekday())\n",
    "            list_year.append(df['Date'][i].year)\n",
    "\n",
    "        df['WeekDay'] = list_day\n",
    "        df['Year'] = list_year\n",
    "        df['Education'] = dfmod['Education'].map({1:0, 2:1, 3:1,4:1})\n",
    "        \n",
    "        df = df.fillna(value=0)\n",
    "    \n",
    "        df = df.drop(['Date'],axis=1)\n",
    "        df = df.drop(['Absenteeism Time in Hours','WeekDay','Daily Work Load Average','Distance to Work'],axis=1)\n",
    "        \n",
    "        self.preprocessed_data = df.copy()\n",
    "        \n",
    "        self.data = self.scaler.transform(df)\n",
    "        \n",
    "    def predicted_probability(self):\n",
    "        if (self.data is not None):\n",
    "            pred = self.reg.predict_proba(self.data)[:.1]\n",
    "            return pred\n",
    "    def predicted_output_category(self):\n",
    "        if(self.data is not None):\n",
    "            pred_outputs = self.reg.predict(self.data)\n",
    "            return pred_outputs\n",
    "        \n",
    "    def predicted_outputs(self):\n",
    "        if (self.data is not None):\n",
    "            self.preprocessed_data['Probability'] = self.reg.predict_proba(self.data)[:.1]\n",
    "            self.preprocessed_data['Prediction'] = self.reg.predict(self.data)\n",
    "            return self.preprocessed_data"
   ]
  }
 ],
 "metadata": {
  "kaggle": {
   "accelerator": "gpu",
   "dataSources": [],
   "dockerImageVersionId": 30698,
   "isGpuEnabled": true,
   "isInternetEnabled": true,
   "language": "python",
   "sourceType": "notebook"
  },
  "kernelspec": {
   "display_name": "Python 3",
   "language": "python",
   "name": "python3"
  },
  "language_info": {
   "codemirror_mode": {
    "name": "ipython",
    "version": 3
   },
   "file_extension": ".py",
   "mimetype": "text/x-python",
   "name": "python",
   "nbconvert_exporter": "python",
   "pygments_lexer": "ipython3",
   "version": "3.10.13"
  },
  "papermill": {
   "default_parameters": {},
   "duration": 4.991516,
   "end_time": "2024-04-26T14:24:27.683648",
   "environment_variables": {},
   "exception": null,
   "input_path": "__notebook__.ipynb",
   "output_path": "__notebook__.ipynb",
   "parameters": {},
   "start_time": "2024-04-26T14:24:22.692132",
   "version": "2.5.0"
  }
 },
 "nbformat": 4,
 "nbformat_minor": 5
}
 main
